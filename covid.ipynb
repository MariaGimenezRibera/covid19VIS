{
  "nbformat": 4,
  "nbformat_minor": 0,
  "metadata": {
    "colab": {
      "name": "covid.ipynb",
      "provenance": []
    },
    "kernelspec": {
      "name": "python3",
      "display_name": "Python 3"
    },
    "language_info": {
      "name": "python"
    }
  },
  "cells": [
    {
      "cell_type": "code",
      "source": [
        "!pip install streamlit"
      ],
      "metadata": {
        "colab": {
          "base_uri": "https://localhost:8080/",
          "height": 1000
        },
        "id": "WDWsDXy551ml",
        "outputId": "23ed03fd-69f7-45c9-f984-110f8d6150f9"
      },
      "execution_count": 1,
      "outputs": [
        {
          "output_type": "stream",
          "name": "stdout",
          "text": [
            "Looking in indexes: https://pypi.org/simple, https://us-python.pkg.dev/colab-wheels/public/simple/\n",
            "Collecting streamlit\n",
            "  Downloading streamlit-1.11.1-py2.py3-none-any.whl (9.1 MB)\n",
            "\u001b[K     |████████████████████████████████| 9.1 MB 21.2 MB/s \n",
            "\u001b[?25hCollecting toml\n",
            "  Downloading toml-0.10.2-py2.py3-none-any.whl (16 kB)\n",
            "Requirement already satisfied: tornado>=5.0 in /usr/local/lib/python3.7/dist-packages (from streamlit) (5.1.1)\n",
            "Requirement already satisfied: attrs>=16.0.0 in /usr/local/lib/python3.7/dist-packages (from streamlit) (21.4.0)\n",
            "Requirement already satisfied: semver in /usr/local/lib/python3.7/dist-packages (from streamlit) (2.13.0)\n",
            "Requirement already satisfied: typing-extensions>=3.10.0.0 in /usr/local/lib/python3.7/dist-packages (from streamlit) (4.1.1)\n",
            "Requirement already satisfied: pandas>=0.21.0 in /usr/local/lib/python3.7/dist-packages (from streamlit) (1.3.5)\n",
            "Requirement already satisfied: altair>=3.2.0 in /usr/local/lib/python3.7/dist-packages (from streamlit) (4.2.0)\n",
            "Collecting gitpython!=3.1.19\n",
            "  Downloading GitPython-3.1.27-py3-none-any.whl (181 kB)\n",
            "\u001b[K     |████████████████████████████████| 181 kB 59.5 MB/s \n",
            "\u001b[?25hRequirement already satisfied: python-dateutil in /usr/local/lib/python3.7/dist-packages (from streamlit) (2.8.2)\n",
            "Requirement already satisfied: pillow>=6.2.0 in /usr/local/lib/python3.7/dist-packages (from streamlit) (7.1.2)\n",
            "Requirement already satisfied: protobuf<4,>=3.12 in /usr/local/lib/python3.7/dist-packages (from streamlit) (3.17.3)\n",
            "Requirement already satisfied: importlib-metadata>=1.4 in /usr/local/lib/python3.7/dist-packages (from streamlit) (4.12.0)\n",
            "Requirement already satisfied: click>=7.0 in /usr/local/lib/python3.7/dist-packages (from streamlit) (7.1.2)\n",
            "Collecting pydeck>=0.1.dev5\n",
            "  Downloading pydeck-0.7.1-py2.py3-none-any.whl (4.3 MB)\n",
            "\u001b[K     |████████████████████████████████| 4.3 MB 45.2 MB/s \n",
            "\u001b[?25hRequirement already satisfied: pyarrow>=4.0 in /usr/local/lib/python3.7/dist-packages (from streamlit) (6.0.1)\n",
            "Requirement already satisfied: tzlocal>=1.1 in /usr/local/lib/python3.7/dist-packages (from streamlit) (1.5.1)\n",
            "Collecting validators>=0.2\n",
            "  Downloading validators-0.20.0.tar.gz (30 kB)\n",
            "Collecting watchdog\n",
            "  Downloading watchdog-2.1.9-py3-none-manylinux2014_x86_64.whl (78 kB)\n",
            "\u001b[K     |████████████████████████████████| 78 kB 7.5 MB/s \n",
            "\u001b[?25hCollecting rich>=10.11.0\n",
            "  Downloading rich-12.5.1-py3-none-any.whl (235 kB)\n",
            "\u001b[K     |████████████████████████████████| 235 kB 59.8 MB/s \n",
            "\u001b[?25hRequirement already satisfied: cachetools>=4.0 in /usr/local/lib/python3.7/dist-packages (from streamlit) (4.2.4)\n",
            "Requirement already satisfied: numpy in /usr/local/lib/python3.7/dist-packages (from streamlit) (1.21.6)\n",
            "Collecting pympler>=0.9\n",
            "  Downloading Pympler-1.0.1-py3-none-any.whl (164 kB)\n",
            "\u001b[K     |████████████████████████████████| 164 kB 45.3 MB/s \n",
            "\u001b[?25hCollecting blinker>=1.0.0\n",
            "  Downloading blinker-1.5-py2.py3-none-any.whl (12 kB)\n",
            "Requirement already satisfied: packaging>=14.1 in /usr/local/lib/python3.7/dist-packages (from streamlit) (21.3)\n",
            "Requirement already satisfied: requests>=2.4 in /usr/local/lib/python3.7/dist-packages (from streamlit) (2.23.0)\n",
            "Requirement already satisfied: entrypoints in /usr/local/lib/python3.7/dist-packages (from altair>=3.2.0->streamlit) (0.4)\n",
            "Requirement already satisfied: jsonschema>=3.0 in /usr/local/lib/python3.7/dist-packages (from altair>=3.2.0->streamlit) (4.3.3)\n",
            "Requirement already satisfied: toolz in /usr/local/lib/python3.7/dist-packages (from altair>=3.2.0->streamlit) (0.12.0)\n",
            "Requirement already satisfied: jinja2 in /usr/local/lib/python3.7/dist-packages (from altair>=3.2.0->streamlit) (2.11.3)\n",
            "Collecting gitdb<5,>=4.0.1\n",
            "  Downloading gitdb-4.0.9-py3-none-any.whl (63 kB)\n",
            "\u001b[K     |████████████████████████████████| 63 kB 1.8 MB/s \n",
            "\u001b[?25hCollecting smmap<6,>=3.0.1\n",
            "  Downloading smmap-5.0.0-py3-none-any.whl (24 kB)\n",
            "Requirement already satisfied: zipp>=0.5 in /usr/local/lib/python3.7/dist-packages (from importlib-metadata>=1.4->streamlit) (3.8.1)\n",
            "Requirement already satisfied: pyrsistent!=0.17.0,!=0.17.1,!=0.17.2,>=0.14.0 in /usr/local/lib/python3.7/dist-packages (from jsonschema>=3.0->altair>=3.2.0->streamlit) (0.18.1)\n",
            "Requirement already satisfied: importlib-resources>=1.4.0 in /usr/local/lib/python3.7/dist-packages (from jsonschema>=3.0->altair>=3.2.0->streamlit) (5.9.0)\n",
            "Requirement already satisfied: pyparsing!=3.0.5,>=2.0.2 in /usr/local/lib/python3.7/dist-packages (from packaging>=14.1->streamlit) (3.0.9)\n",
            "Requirement already satisfied: pytz>=2017.3 in /usr/local/lib/python3.7/dist-packages (from pandas>=0.21.0->streamlit) (2022.1)\n",
            "Requirement already satisfied: six>=1.9 in /usr/local/lib/python3.7/dist-packages (from protobuf<4,>=3.12->streamlit) (1.15.0)\n",
            "Requirement already satisfied: traitlets>=4.3.2 in /usr/local/lib/python3.7/dist-packages (from pydeck>=0.1.dev5->streamlit) (5.1.1)\n",
            "Requirement already satisfied: ipywidgets>=7.0.0 in /usr/local/lib/python3.7/dist-packages (from pydeck>=0.1.dev5->streamlit) (7.7.1)\n",
            "Collecting ipykernel>=5.1.2\n",
            "  Downloading ipykernel-6.15.1-py3-none-any.whl (132 kB)\n",
            "\u001b[K     |████████████████████████████████| 132 kB 51.7 MB/s \n",
            "\u001b[?25hCollecting jupyter-client>=6.1.12\n",
            "  Downloading jupyter_client-7.3.4-py3-none-any.whl (132 kB)\n",
            "\u001b[K     |████████████████████████████████| 132 kB 54.1 MB/s \n",
            "\u001b[?25hCollecting tornado>=5.0\n",
            "  Downloading tornado-6.2-cp37-abi3-manylinux_2_5_x86_64.manylinux1_x86_64.manylinux_2_17_x86_64.manylinux2014_x86_64.whl (423 kB)\n",
            "\u001b[K     |████████████████████████████████| 423 kB 67.5 MB/s \n",
            "\u001b[?25hRequirement already satisfied: nest-asyncio in /usr/local/lib/python3.7/dist-packages (from ipykernel>=5.1.2->pydeck>=0.1.dev5->streamlit) (1.5.5)\n",
            "Requirement already satisfied: matplotlib-inline>=0.1 in /usr/local/lib/python3.7/dist-packages (from ipykernel>=5.1.2->pydeck>=0.1.dev5->streamlit) (0.1.3)\n",
            "Requirement already satisfied: psutil in /usr/local/lib/python3.7/dist-packages (from ipykernel>=5.1.2->pydeck>=0.1.dev5->streamlit) (5.4.8)\n",
            "Requirement already satisfied: debugpy>=1.0 in /usr/local/lib/python3.7/dist-packages (from ipykernel>=5.1.2->pydeck>=0.1.dev5->streamlit) (1.0.0)\n",
            "Requirement already satisfied: pyzmq>=17 in /usr/local/lib/python3.7/dist-packages (from ipykernel>=5.1.2->pydeck>=0.1.dev5->streamlit) (23.2.0)\n",
            "Collecting ipython>=7.23.1\n",
            "  Downloading ipython-7.34.0-py3-none-any.whl (793 kB)\n",
            "\u001b[K     |████████████████████████████████| 793 kB 61.5 MB/s \n",
            "\u001b[?25hRequirement already satisfied: setuptools>=18.5 in /usr/local/lib/python3.7/dist-packages (from ipython>=7.23.1->ipykernel>=5.1.2->pydeck>=0.1.dev5->streamlit) (57.4.0)\n",
            "Requirement already satisfied: jedi>=0.16 in /usr/local/lib/python3.7/dist-packages (from ipython>=7.23.1->ipykernel>=5.1.2->pydeck>=0.1.dev5->streamlit) (0.18.1)\n",
            "Requirement already satisfied: pickleshare in /usr/local/lib/python3.7/dist-packages (from ipython>=7.23.1->ipykernel>=5.1.2->pydeck>=0.1.dev5->streamlit) (0.7.5)\n",
            "Requirement already satisfied: decorator in /usr/local/lib/python3.7/dist-packages (from ipython>=7.23.1->ipykernel>=5.1.2->pydeck>=0.1.dev5->streamlit) (4.4.2)\n",
            "Requirement already satisfied: backcall in /usr/local/lib/python3.7/dist-packages (from ipython>=7.23.1->ipykernel>=5.1.2->pydeck>=0.1.dev5->streamlit) (0.2.0)\n",
            "Requirement already satisfied: pygments in /usr/local/lib/python3.7/dist-packages (from ipython>=7.23.1->ipykernel>=5.1.2->pydeck>=0.1.dev5->streamlit) (2.6.1)\n",
            "Requirement already satisfied: pexpect>4.3 in /usr/local/lib/python3.7/dist-packages (from ipython>=7.23.1->ipykernel>=5.1.2->pydeck>=0.1.dev5->streamlit) (4.8.0)\n",
            "Collecting prompt-toolkit!=3.0.0,!=3.0.1,<3.1.0,>=2.0.0\n",
            "  Downloading prompt_toolkit-3.0.30-py3-none-any.whl (381 kB)\n",
            "\u001b[K     |████████████████████████████████| 381 kB 66.1 MB/s \n",
            "\u001b[?25hRequirement already satisfied: jupyterlab-widgets>=1.0.0 in /usr/local/lib/python3.7/dist-packages (from ipywidgets>=7.0.0->pydeck>=0.1.dev5->streamlit) (1.1.1)\n",
            "Requirement already satisfied: widgetsnbextension~=3.6.0 in /usr/local/lib/python3.7/dist-packages (from ipywidgets>=7.0.0->pydeck>=0.1.dev5->streamlit) (3.6.1)\n",
            "Requirement already satisfied: ipython-genutils~=0.2.0 in /usr/local/lib/python3.7/dist-packages (from ipywidgets>=7.0.0->pydeck>=0.1.dev5->streamlit) (0.2.0)\n",
            "Requirement already satisfied: parso<0.9.0,>=0.8.0 in /usr/local/lib/python3.7/dist-packages (from jedi>=0.16->ipython>=7.23.1->ipykernel>=5.1.2->pydeck>=0.1.dev5->streamlit) (0.8.3)\n",
            "Requirement already satisfied: MarkupSafe>=0.23 in /usr/local/lib/python3.7/dist-packages (from jinja2->altair>=3.2.0->streamlit) (2.0.1)\n",
            "Requirement already satisfied: jupyter-core>=4.9.2 in /usr/local/lib/python3.7/dist-packages (from jupyter-client>=6.1.12->ipykernel>=5.1.2->pydeck>=0.1.dev5->streamlit) (4.11.1)\n",
            "Requirement already satisfied: ptyprocess>=0.5 in /usr/local/lib/python3.7/dist-packages (from pexpect>4.3->ipython>=7.23.1->ipykernel>=5.1.2->pydeck>=0.1.dev5->streamlit) (0.7.0)\n",
            "Requirement already satisfied: wcwidth in /usr/local/lib/python3.7/dist-packages (from prompt-toolkit!=3.0.0,!=3.0.1,<3.1.0,>=2.0.0->ipython>=7.23.1->ipykernel>=5.1.2->pydeck>=0.1.dev5->streamlit) (0.2.5)\n",
            "Requirement already satisfied: certifi>=2017.4.17 in /usr/local/lib/python3.7/dist-packages (from requests>=2.4->streamlit) (2022.6.15)\n",
            "Requirement already satisfied: chardet<4,>=3.0.2 in /usr/local/lib/python3.7/dist-packages (from requests>=2.4->streamlit) (3.0.4)\n",
            "Requirement already satisfied: idna<3,>=2.5 in /usr/local/lib/python3.7/dist-packages (from requests>=2.4->streamlit) (2.10)\n",
            "Requirement already satisfied: urllib3!=1.25.0,!=1.25.1,<1.26,>=1.21.1 in /usr/local/lib/python3.7/dist-packages (from requests>=2.4->streamlit) (1.24.3)\n",
            "Collecting commonmark<0.10.0,>=0.9.0\n",
            "  Downloading commonmark-0.9.1-py2.py3-none-any.whl (51 kB)\n",
            "\u001b[K     |████████████████████████████████| 51 kB 5.2 MB/s \n",
            "\u001b[?25hRequirement already satisfied: notebook>=4.4.1 in /usr/local/lib/python3.7/dist-packages (from widgetsnbextension~=3.6.0->ipywidgets>=7.0.0->pydeck>=0.1.dev5->streamlit) (5.3.1)\n",
            "Requirement already satisfied: Send2Trash in /usr/local/lib/python3.7/dist-packages (from notebook>=4.4.1->widgetsnbextension~=3.6.0->ipywidgets>=7.0.0->pydeck>=0.1.dev5->streamlit) (1.8.0)\n",
            "Requirement already satisfied: terminado>=0.8.1 in /usr/local/lib/python3.7/dist-packages (from notebook>=4.4.1->widgetsnbextension~=3.6.0->ipywidgets>=7.0.0->pydeck>=0.1.dev5->streamlit) (0.13.3)\n",
            "Requirement already satisfied: nbformat in /usr/local/lib/python3.7/dist-packages (from notebook>=4.4.1->widgetsnbextension~=3.6.0->ipywidgets>=7.0.0->pydeck>=0.1.dev5->streamlit) (5.4.0)\n",
            "Requirement already satisfied: nbconvert in /usr/local/lib/python3.7/dist-packages (from notebook>=4.4.1->widgetsnbextension~=3.6.0->ipywidgets>=7.0.0->pydeck>=0.1.dev5->streamlit) (5.6.1)\n",
            "Requirement already satisfied: testpath in /usr/local/lib/python3.7/dist-packages (from nbconvert->notebook>=4.4.1->widgetsnbextension~=3.6.0->ipywidgets>=7.0.0->pydeck>=0.1.dev5->streamlit) (0.6.0)\n",
            "Requirement already satisfied: pandocfilters>=1.4.1 in /usr/local/lib/python3.7/dist-packages (from nbconvert->notebook>=4.4.1->widgetsnbextension~=3.6.0->ipywidgets>=7.0.0->pydeck>=0.1.dev5->streamlit) (1.5.0)\n",
            "Requirement already satisfied: mistune<2,>=0.8.1 in /usr/local/lib/python3.7/dist-packages (from nbconvert->notebook>=4.4.1->widgetsnbextension~=3.6.0->ipywidgets>=7.0.0->pydeck>=0.1.dev5->streamlit) (0.8.4)\n",
            "Requirement already satisfied: bleach in /usr/local/lib/python3.7/dist-packages (from nbconvert->notebook>=4.4.1->widgetsnbextension~=3.6.0->ipywidgets>=7.0.0->pydeck>=0.1.dev5->streamlit) (5.0.1)\n",
            "Requirement already satisfied: defusedxml in /usr/local/lib/python3.7/dist-packages (from nbconvert->notebook>=4.4.1->widgetsnbextension~=3.6.0->ipywidgets>=7.0.0->pydeck>=0.1.dev5->streamlit) (0.7.1)\n",
            "Requirement already satisfied: fastjsonschema in /usr/local/lib/python3.7/dist-packages (from nbformat->notebook>=4.4.1->widgetsnbextension~=3.6.0->ipywidgets>=7.0.0->pydeck>=0.1.dev5->streamlit) (2.16.1)\n",
            "Requirement already satisfied: webencodings in /usr/local/lib/python3.7/dist-packages (from bleach->nbconvert->notebook>=4.4.1->widgetsnbextension~=3.6.0->ipywidgets>=7.0.0->pydeck>=0.1.dev5->streamlit) (0.5.1)\n",
            "Building wheels for collected packages: validators\n",
            "  Building wheel for validators (setup.py) ... \u001b[?25l\u001b[?25hdone\n",
            "  Created wheel for validators: filename=validators-0.20.0-py3-none-any.whl size=19582 sha256=b1e29f01f740f22fed51136c7fae982d5974e6ae72fb4c8aa6a44cba6254f953\n",
            "  Stored in directory: /root/.cache/pip/wheels/5f/55/ab/36a76989f7f88d9ca7b1f68da6d94252bb6a8d6ad4f18e04e9\n",
            "Successfully built validators\n",
            "Installing collected packages: tornado, prompt-toolkit, jupyter-client, ipython, ipykernel, smmap, gitdb, commonmark, watchdog, validators, toml, rich, pympler, pydeck, gitpython, blinker, streamlit\n",
            "  Attempting uninstall: tornado\n",
            "    Found existing installation: tornado 5.1.1\n",
            "    Uninstalling tornado-5.1.1:\n",
            "      Successfully uninstalled tornado-5.1.1\n",
            "  Attempting uninstall: prompt-toolkit\n",
            "    Found existing installation: prompt-toolkit 1.0.18\n",
            "    Uninstalling prompt-toolkit-1.0.18:\n",
            "      Successfully uninstalled prompt-toolkit-1.0.18\n",
            "  Attempting uninstall: jupyter-client\n",
            "    Found existing installation: jupyter-client 5.3.5\n",
            "    Uninstalling jupyter-client-5.3.5:\n",
            "      Successfully uninstalled jupyter-client-5.3.5\n",
            "  Attempting uninstall: ipython\n",
            "    Found existing installation: ipython 5.5.0\n",
            "    Uninstalling ipython-5.5.0:\n",
            "      Successfully uninstalled ipython-5.5.0\n",
            "  Attempting uninstall: ipykernel\n",
            "    Found existing installation: ipykernel 4.10.1\n",
            "    Uninstalling ipykernel-4.10.1:\n",
            "      Successfully uninstalled ipykernel-4.10.1\n",
            "\u001b[31mERROR: pip's dependency resolver does not currently take into account all the packages that are installed. This behaviour is the source of the following dependency conflicts.\n",
            "nbclient 0.6.6 requires traitlets>=5.2.2, but you have traitlets 5.1.1 which is incompatible.\n",
            "jupyter-console 5.2.0 requires prompt-toolkit<2.0.0,>=1.0.0, but you have prompt-toolkit 3.0.30 which is incompatible.\n",
            "google-colab 1.0.0 requires ipykernel~=4.10, but you have ipykernel 6.15.1 which is incompatible.\n",
            "google-colab 1.0.0 requires ipython~=5.5.0, but you have ipython 7.34.0 which is incompatible.\n",
            "google-colab 1.0.0 requires tornado~=5.1.0, but you have tornado 6.2 which is incompatible.\u001b[0m\n",
            "Successfully installed blinker-1.5 commonmark-0.9.1 gitdb-4.0.9 gitpython-3.1.27 ipykernel-6.15.1 ipython-7.34.0 jupyter-client-7.3.4 prompt-toolkit-3.0.30 pydeck-0.7.1 pympler-1.0.1 rich-12.5.1 smmap-5.0.0 streamlit-1.11.1 toml-0.10.2 tornado-6.2 validators-0.20.0 watchdog-2.1.9\n"
          ]
        },
        {
          "output_type": "display_data",
          "data": {
            "application/vnd.colab-display-data+json": {
              "pip_warning": {
                "packages": [
                  "IPython",
                  "prompt_toolkit",
                  "tornado"
                ]
              }
            }
          },
          "metadata": {}
        }
      ]
    },
    {
      "cell_type": "code",
      "source": [
        "import streamlit as st"
      ],
      "metadata": {
        "colab": {
          "base_uri": "https://localhost:8080/",
          "height": 312
        },
        "id": "06FiSRN559Xi",
        "outputId": "8e1a114a-b767-448b-ff17-3ef1fe5ea48e"
      },
      "execution_count": 3,
      "outputs": [
        {
          "output_type": "error",
          "ename": "AttributeError",
          "evalue": "ignored",
          "traceback": [
            "\u001b[0;31m---------------------------------------------------------------------------\u001b[0m",
            "\u001b[0;31mAttributeError\u001b[0m                            Traceback (most recent call last)",
            "\u001b[0;32m<ipython-input-3-1aa3dc4fa683>\u001b[0m in \u001b[0;36m<module>\u001b[0;34m()\u001b[0m\n\u001b[0;32m----> 1\u001b[0;31m \u001b[0;32mimport\u001b[0m \u001b[0mstreamlit\u001b[0m \u001b[0;32mas\u001b[0m \u001b[0mst\u001b[0m\u001b[0;34m\u001b[0m\u001b[0;34m\u001b[0m\u001b[0m\n\u001b[0m",
            "\u001b[0;32m/usr/local/lib/python3.7/dist-packages/streamlit/__init__.py\u001b[0m in \u001b[0;36m<module>\u001b[0;34m()\u001b[0m\n\u001b[1;32m     68\u001b[0m \u001b[0;32mfrom\u001b[0m \u001b[0mstreamlit\u001b[0m \u001b[0;32mimport\u001b[0m \u001b[0msource_util\u001b[0m \u001b[0;32mas\u001b[0m \u001b[0m_source_util\u001b[0m\u001b[0;34m\u001b[0m\u001b[0;34m\u001b[0m\u001b[0m\n\u001b[1;32m     69\u001b[0m \u001b[0;32mfrom\u001b[0m \u001b[0mstreamlit\u001b[0m \u001b[0;32mimport\u001b[0m \u001b[0mstring_util\u001b[0m \u001b[0;32mas\u001b[0m \u001b[0m_string_util\u001b[0m\u001b[0;34m\u001b[0m\u001b[0;34m\u001b[0m\u001b[0m\n\u001b[0;32m---> 70\u001b[0;31m \u001b[0;32mfrom\u001b[0m \u001b[0mstreamlit\u001b[0m\u001b[0;34m.\u001b[0m\u001b[0mdelta_generator\u001b[0m \u001b[0;32mimport\u001b[0m \u001b[0mDeltaGenerator\u001b[0m \u001b[0;32mas\u001b[0m \u001b[0m_DeltaGenerator\u001b[0m\u001b[0;34m\u001b[0m\u001b[0;34m\u001b[0m\u001b[0m\n\u001b[0m\u001b[1;32m     71\u001b[0m from streamlit.scriptrunner import (\n\u001b[1;32m     72\u001b[0m     \u001b[0madd_script_run_ctx\u001b[0m \u001b[0;32mas\u001b[0m \u001b[0m_add_script_run_ctx\u001b[0m\u001b[0;34m,\u001b[0m\u001b[0;34m\u001b[0m\u001b[0;34m\u001b[0m\u001b[0m\n",
            "\u001b[0;32m/usr/local/lib/python3.7/dist-packages/streamlit/delta_generator.py\u001b[0m in \u001b[0;36m<module>\u001b[0;34m()\u001b[0m\n\u001b[1;32m     34\u001b[0m \u001b[0;34m\u001b[0m\u001b[0m\n\u001b[1;32m     35\u001b[0m \u001b[0;32mimport\u001b[0m \u001b[0mstreamlit\u001b[0m \u001b[0;32mas\u001b[0m \u001b[0mst\u001b[0m\u001b[0;34m\u001b[0m\u001b[0;34m\u001b[0m\u001b[0m\n\u001b[0;32m---> 36\u001b[0;31m \u001b[0;32mfrom\u001b[0m \u001b[0mstreamlit\u001b[0m \u001b[0;32mimport\u001b[0m \u001b[0mcursor\u001b[0m\u001b[0;34m,\u001b[0m \u001b[0mcaching\u001b[0m\u001b[0;34m\u001b[0m\u001b[0;34m\u001b[0m\u001b[0m\n\u001b[0m\u001b[1;32m     37\u001b[0m \u001b[0;32mfrom\u001b[0m \u001b[0mstreamlit\u001b[0m \u001b[0;32mimport\u001b[0m \u001b[0mlegacy_caching\u001b[0m\u001b[0;34m\u001b[0m\u001b[0;34m\u001b[0m\u001b[0m\n\u001b[1;32m     38\u001b[0m \u001b[0;32mfrom\u001b[0m \u001b[0mstreamlit\u001b[0m \u001b[0;32mimport\u001b[0m \u001b[0mtype_util\u001b[0m\u001b[0;34m\u001b[0m\u001b[0;34m\u001b[0m\u001b[0m\n",
            "\u001b[0;32m/usr/local/lib/python3.7/dist-packages/streamlit/cursor.py\u001b[0m in \u001b[0;36m<module>\u001b[0;34m()\u001b[0m\n\u001b[1;32m     16\u001b[0m \u001b[0;34m\u001b[0m\u001b[0m\n\u001b[1;32m     17\u001b[0m \u001b[0;32mfrom\u001b[0m \u001b[0mstreamlit\u001b[0m \u001b[0;32mimport\u001b[0m \u001b[0mutil\u001b[0m\u001b[0;34m\u001b[0m\u001b[0;34m\u001b[0m\u001b[0m\n\u001b[0;32m---> 18\u001b[0;31m \u001b[0;32mfrom\u001b[0m \u001b[0mstreamlit\u001b[0m\u001b[0;34m.\u001b[0m\u001b[0mscriptrunner\u001b[0m \u001b[0;32mimport\u001b[0m \u001b[0mget_script_run_ctx\u001b[0m\u001b[0;34m\u001b[0m\u001b[0;34m\u001b[0m\u001b[0m\n\u001b[0m\u001b[1;32m     19\u001b[0m \u001b[0;34m\u001b[0m\u001b[0m\n\u001b[1;32m     20\u001b[0m \u001b[0;34m\u001b[0m\u001b[0m\n",
            "\u001b[0;32m/usr/local/lib/python3.7/dist-packages/streamlit/scriptrunner/__init__.py\u001b[0m in \u001b[0;36m<module>\u001b[0;34m()\u001b[0m\n\u001b[1;32m     14\u001b[0m \u001b[0;34m\u001b[0m\u001b[0m\n\u001b[1;32m     15\u001b[0m \u001b[0;31m# Explicitly export public symobls\u001b[0m\u001b[0;34m\u001b[0m\u001b[0;34m\u001b[0m\u001b[0;34m\u001b[0m\u001b[0m\n\u001b[0;32m---> 16\u001b[0;31m from .script_runner import (\n\u001b[0m\u001b[1;32m     17\u001b[0m     \u001b[0mScriptRunner\u001b[0m \u001b[0;32mas\u001b[0m \u001b[0mScriptRunner\u001b[0m\u001b[0;34m,\u001b[0m\u001b[0;34m\u001b[0m\u001b[0;34m\u001b[0m\u001b[0m\n\u001b[1;32m     18\u001b[0m     \u001b[0mScriptRunnerEvent\u001b[0m \u001b[0;32mas\u001b[0m \u001b[0mScriptRunnerEvent\u001b[0m\u001b[0;34m,\u001b[0m\u001b[0;34m\u001b[0m\u001b[0;34m\u001b[0m\u001b[0m\n",
            "\u001b[0;32m/usr/local/lib/python3.7/dist-packages/streamlit/scriptrunner/script_runner.py\u001b[0m in \u001b[0;36m<module>\u001b[0;34m()\u001b[0m\n\u001b[1;32m     28\u001b[0m \u001b[0;32mfrom\u001b[0m \u001b[0mstreamlit\u001b[0m \u001b[0;32mimport\u001b[0m \u001b[0mutil\u001b[0m\u001b[0;34m\u001b[0m\u001b[0;34m\u001b[0m\u001b[0m\n\u001b[1;32m     29\u001b[0m \u001b[0;32mfrom\u001b[0m \u001b[0mstreamlit\u001b[0m\u001b[0;34m.\u001b[0m\u001b[0merror_util\u001b[0m \u001b[0;32mimport\u001b[0m \u001b[0mhandle_uncaught_app_exception\u001b[0m\u001b[0;34m\u001b[0m\u001b[0;34m\u001b[0m\u001b[0m\n\u001b[0;32m---> 30\u001b[0;31m \u001b[0;32mfrom\u001b[0m \u001b[0mstreamlit\u001b[0m\u001b[0;34m.\u001b[0m\u001b[0min_memory_file_manager\u001b[0m \u001b[0;32mimport\u001b[0m \u001b[0min_memory_file_manager\u001b[0m\u001b[0;34m\u001b[0m\u001b[0;34m\u001b[0m\u001b[0m\n\u001b[0m\u001b[1;32m     31\u001b[0m \u001b[0;32mfrom\u001b[0m \u001b[0mstreamlit\u001b[0m\u001b[0;34m.\u001b[0m\u001b[0mlogger\u001b[0m \u001b[0;32mimport\u001b[0m \u001b[0mget_logger\u001b[0m\u001b[0;34m\u001b[0m\u001b[0;34m\u001b[0m\u001b[0m\n\u001b[1;32m     32\u001b[0m \u001b[0;32mfrom\u001b[0m \u001b[0mstreamlit\u001b[0m\u001b[0;34m.\u001b[0m\u001b[0mproto\u001b[0m\u001b[0;34m.\u001b[0m\u001b[0mClientState_pb2\u001b[0m \u001b[0;32mimport\u001b[0m \u001b[0mClientState\u001b[0m\u001b[0;34m\u001b[0m\u001b[0;34m\u001b[0m\u001b[0m\n",
            "\u001b[0;32m/usr/local/lib/python3.7/dist-packages/streamlit/in_memory_file_manager.py\u001b[0m in \u001b[0;36m<module>\u001b[0;34m()\u001b[0m\n\u001b[1;32m     22\u001b[0m \u001b[0;32mfrom\u001b[0m \u001b[0mstreamlit\u001b[0m\u001b[0;34m.\u001b[0m\u001b[0mlogger\u001b[0m \u001b[0;32mimport\u001b[0m \u001b[0mget_logger\u001b[0m\u001b[0;34m\u001b[0m\u001b[0;34m\u001b[0m\u001b[0m\n\u001b[1;32m     23\u001b[0m \u001b[0;32mfrom\u001b[0m \u001b[0mstreamlit\u001b[0m \u001b[0;32mimport\u001b[0m \u001b[0mutil\u001b[0m\u001b[0;34m\u001b[0m\u001b[0;34m\u001b[0m\u001b[0m\n\u001b[0;32m---> 24\u001b[0;31m \u001b[0;32mfrom\u001b[0m \u001b[0mstreamlit\u001b[0m\u001b[0;34m.\u001b[0m\u001b[0mstats\u001b[0m \u001b[0;32mimport\u001b[0m \u001b[0mCacheStatsProvider\u001b[0m\u001b[0;34m,\u001b[0m \u001b[0mCacheStat\u001b[0m\u001b[0;34m\u001b[0m\u001b[0;34m\u001b[0m\u001b[0m\n\u001b[0m\u001b[1;32m     25\u001b[0m \u001b[0;34m\u001b[0m\u001b[0m\n\u001b[1;32m     26\u001b[0m \u001b[0mLOGGER\u001b[0m \u001b[0;34m=\u001b[0m \u001b[0mget_logger\u001b[0m\u001b[0;34m(\u001b[0m\u001b[0m__name__\u001b[0m\u001b[0;34m)\u001b[0m\u001b[0;34m\u001b[0m\u001b[0;34m\u001b[0m\u001b[0m\n",
            "\u001b[0;32m/usr/local/lib/python3.7/dist-packages/streamlit/stats.py\u001b[0m in \u001b[0;36m<module>\u001b[0;34m()\u001b[0m\n\u001b[1;32m     17\u001b[0m \u001b[0;32mfrom\u001b[0m \u001b[0mtyping\u001b[0m \u001b[0;32mimport\u001b[0m \u001b[0mList\u001b[0m\u001b[0;34m\u001b[0m\u001b[0;34m\u001b[0m\u001b[0m\n\u001b[1;32m     18\u001b[0m \u001b[0;34m\u001b[0m\u001b[0m\n\u001b[0;32m---> 19\u001b[0;31m \u001b[0;32mimport\u001b[0m \u001b[0mtornado\u001b[0m\u001b[0;34m.\u001b[0m\u001b[0mweb\u001b[0m\u001b[0;34m\u001b[0m\u001b[0;34m\u001b[0m\u001b[0m\n\u001b[0m\u001b[1;32m     20\u001b[0m \u001b[0;34m\u001b[0m\u001b[0m\n\u001b[1;32m     21\u001b[0m from streamlit.proto.openmetrics_data_model_pb2 import (\n",
            "\u001b[0;32m/usr/local/lib/python3.7/dist-packages/tornado/web.py\u001b[0m in \u001b[0;36m<module>\u001b[0;34m()\u001b[0m\n\u001b[1;32m     89\u001b[0m \u001b[0;32mfrom\u001b[0m \u001b[0mtornado\u001b[0m \u001b[0;32mimport\u001b[0m \u001b[0mescape\u001b[0m\u001b[0;34m\u001b[0m\u001b[0;34m\u001b[0m\u001b[0m\n\u001b[1;32m     90\u001b[0m \u001b[0;32mfrom\u001b[0m \u001b[0mtornado\u001b[0m \u001b[0;32mimport\u001b[0m \u001b[0mgen\u001b[0m\u001b[0;34m\u001b[0m\u001b[0;34m\u001b[0m\u001b[0m\n\u001b[0;32m---> 91\u001b[0;31m \u001b[0;32mfrom\u001b[0m \u001b[0mtornado\u001b[0m\u001b[0;34m.\u001b[0m\u001b[0mhttpserver\u001b[0m \u001b[0;32mimport\u001b[0m \u001b[0mHTTPServer\u001b[0m\u001b[0;34m\u001b[0m\u001b[0;34m\u001b[0m\u001b[0m\n\u001b[0m\u001b[1;32m     92\u001b[0m \u001b[0;32mfrom\u001b[0m \u001b[0mtornado\u001b[0m \u001b[0;32mimport\u001b[0m \u001b[0mhttputil\u001b[0m\u001b[0;34m\u001b[0m\u001b[0;34m\u001b[0m\u001b[0m\n\u001b[1;32m     93\u001b[0m \u001b[0;32mfrom\u001b[0m \u001b[0mtornado\u001b[0m \u001b[0;32mimport\u001b[0m \u001b[0miostream\u001b[0m\u001b[0;34m\u001b[0m\u001b[0;34m\u001b[0m\u001b[0m\n",
            "\u001b[0;32m/usr/local/lib/python3.7/dist-packages/tornado/httpserver.py\u001b[0m in \u001b[0;36m<module>\u001b[0;34m()\u001b[0m\n\u001b[1;32m     30\u001b[0m \u001b[0;34m\u001b[0m\u001b[0m\n\u001b[1;32m     31\u001b[0m \u001b[0;32mfrom\u001b[0m \u001b[0mtornado\u001b[0m\u001b[0;34m.\u001b[0m\u001b[0mescape\u001b[0m \u001b[0;32mimport\u001b[0m \u001b[0mnative_str\u001b[0m\u001b[0;34m\u001b[0m\u001b[0;34m\u001b[0m\u001b[0m\n\u001b[0;32m---> 32\u001b[0;31m \u001b[0;32mfrom\u001b[0m \u001b[0mtornado\u001b[0m\u001b[0;34m.\u001b[0m\u001b[0mhttp1connection\u001b[0m \u001b[0;32mimport\u001b[0m \u001b[0mHTTP1ServerConnection\u001b[0m\u001b[0;34m,\u001b[0m \u001b[0mHTTP1ConnectionParameters\u001b[0m\u001b[0;34m\u001b[0m\u001b[0;34m\u001b[0m\u001b[0m\n\u001b[0m\u001b[1;32m     33\u001b[0m \u001b[0;32mfrom\u001b[0m \u001b[0mtornado\u001b[0m \u001b[0;32mimport\u001b[0m \u001b[0mhttputil\u001b[0m\u001b[0;34m\u001b[0m\u001b[0;34m\u001b[0m\u001b[0m\n\u001b[1;32m     34\u001b[0m \u001b[0;32mfrom\u001b[0m \u001b[0mtornado\u001b[0m \u001b[0;32mimport\u001b[0m \u001b[0miostream\u001b[0m\u001b[0;34m\u001b[0m\u001b[0;34m\u001b[0m\u001b[0m\n",
            "\u001b[0;32m/usr/local/lib/python3.7/dist-packages/tornado/http1connection.py\u001b[0m in \u001b[0;36m<module>\u001b[0;34m()\u001b[0m\n\u001b[1;32m     32\u001b[0m \u001b[0;32mfrom\u001b[0m \u001b[0mtornado\u001b[0m \u001b[0;32mimport\u001b[0m \u001b[0mgen\u001b[0m\u001b[0;34m\u001b[0m\u001b[0;34m\u001b[0m\u001b[0m\n\u001b[1;32m     33\u001b[0m \u001b[0;32mfrom\u001b[0m \u001b[0mtornado\u001b[0m \u001b[0;32mimport\u001b[0m \u001b[0mhttputil\u001b[0m\u001b[0;34m\u001b[0m\u001b[0;34m\u001b[0m\u001b[0m\n\u001b[0;32m---> 34\u001b[0;31m \u001b[0;32mfrom\u001b[0m \u001b[0mtornado\u001b[0m \u001b[0;32mimport\u001b[0m \u001b[0miostream\u001b[0m\u001b[0;34m\u001b[0m\u001b[0;34m\u001b[0m\u001b[0m\n\u001b[0m\u001b[1;32m     35\u001b[0m \u001b[0;32mfrom\u001b[0m \u001b[0mtornado\u001b[0m\u001b[0;34m.\u001b[0m\u001b[0mlog\u001b[0m \u001b[0;32mimport\u001b[0m \u001b[0mgen_log\u001b[0m\u001b[0;34m,\u001b[0m \u001b[0mapp_log\u001b[0m\u001b[0;34m\u001b[0m\u001b[0;34m\u001b[0m\u001b[0m\n\u001b[1;32m     36\u001b[0m \u001b[0;32mfrom\u001b[0m \u001b[0mtornado\u001b[0m\u001b[0;34m.\u001b[0m\u001b[0mutil\u001b[0m \u001b[0;32mimport\u001b[0m \u001b[0mGzipDecompressor\u001b[0m\u001b[0;34m\u001b[0m\u001b[0;34m\u001b[0m\u001b[0m\n",
            "\u001b[0;32m/usr/local/lib/python3.7/dist-packages/tornado/iostream.py\u001b[0m in \u001b[0;36m<module>\u001b[0;34m()\u001b[0m\n\u001b[1;32m    207\u001b[0m \u001b[0;34m\u001b[0m\u001b[0m\n\u001b[1;32m    208\u001b[0m \u001b[0;34m\u001b[0m\u001b[0m\n\u001b[0;32m--> 209\u001b[0;31m \u001b[0;32mclass\u001b[0m \u001b[0mBaseIOStream\u001b[0m\u001b[0;34m(\u001b[0m\u001b[0mobject\u001b[0m\u001b[0;34m)\u001b[0m\u001b[0;34m:\u001b[0m\u001b[0;34m\u001b[0m\u001b[0;34m\u001b[0m\u001b[0m\n\u001b[0m\u001b[1;32m    210\u001b[0m     \"\"\"A utility class to write to and read from a non-blocking file or socket.\n\u001b[1;32m    211\u001b[0m \u001b[0;34m\u001b[0m\u001b[0m\n",
            "\u001b[0;32m/usr/local/lib/python3.7/dist-packages/tornado/iostream.py\u001b[0m in \u001b[0;36mBaseIOStream\u001b[0;34m()\u001b[0m\n\u001b[1;32m    283\u001b[0m         \u001b[0mself\u001b[0m\u001b[0;34m.\u001b[0m\u001b[0m_closed\u001b[0m \u001b[0;34m=\u001b[0m \u001b[0;32mFalse\u001b[0m\u001b[0;34m\u001b[0m\u001b[0;34m\u001b[0m\u001b[0m\n\u001b[1;32m    284\u001b[0m \u001b[0;34m\u001b[0m\u001b[0m\n\u001b[0;32m--> 285\u001b[0;31m     \u001b[0;32mdef\u001b[0m \u001b[0mfileno\u001b[0m\u001b[0;34m(\u001b[0m\u001b[0mself\u001b[0m\u001b[0;34m)\u001b[0m \u001b[0;34m->\u001b[0m \u001b[0mUnion\u001b[0m\u001b[0;34m[\u001b[0m\u001b[0mint\u001b[0m\u001b[0;34m,\u001b[0m \u001b[0mioloop\u001b[0m\u001b[0;34m.\u001b[0m\u001b[0m_Selectable\u001b[0m\u001b[0;34m]\u001b[0m\u001b[0;34m:\u001b[0m\u001b[0;34m\u001b[0m\u001b[0;34m\u001b[0m\u001b[0m\n\u001b[0m\u001b[1;32m    286\u001b[0m         \u001b[0;34m\"\"\"Returns the file descriptor for this stream.\"\"\"\u001b[0m\u001b[0;34m\u001b[0m\u001b[0;34m\u001b[0m\u001b[0m\n\u001b[1;32m    287\u001b[0m         \u001b[0;32mraise\u001b[0m \u001b[0mNotImplementedError\u001b[0m\u001b[0;34m(\u001b[0m\u001b[0;34m)\u001b[0m\u001b[0;34m\u001b[0m\u001b[0;34m\u001b[0m\u001b[0m\n",
            "\u001b[0;31mAttributeError\u001b[0m: module 'tornado.ioloop' has no attribute '_Selectable'"
          ]
        }
      ]
    },
    {
      "cell_type": "code",
      "source": [
        "import pandas as pd\n",
        "import numpy as np\n",
        "import matplotlib.pyplot as plt\n",
        "import seaborn as sns\n",
        "import plotly.express as px"
      ],
      "metadata": {
        "id": "PpDbXfLyceIm"
      },
      "execution_count": 1,
      "outputs": []
    },
    {
      "cell_type": "markdown",
      "source": [
        "# Datos covid generales"
      ],
      "metadata": {
        "id": "RKGuQl0a47n3"
      }
    },
    {
      "cell_type": "code",
      "source": [
        "spain_data = pd.read_csv(\"https://storage.googleapis.com/covid19-open-data/v3/location/ES.csv\")\n",
        "#Various statistics"
      ],
      "metadata": {
        "id": "S2MVv-45my9f"
      },
      "execution_count": 21,
      "outputs": []
    },
    {
      "cell_type": "code",
      "source": [
        "df = spain_data"
      ],
      "metadata": {
        "id": "XFg1TM6IqDi7"
      },
      "execution_count": 24,
      "outputs": []
    },
    {
      "cell_type": "code",
      "source": [
        "# --- Print Dataset Info ---\n",
        "print('\\033[92m\\033[1m'+'. Información del dataset:.'+'\\033[0m')\n",
        "print('\\033[92m*' * 30+'\\033[0m')\n",
        "print('Filas totales:'+'\\033[92m\\033[1m', df.shape[0])\n",
        "print('\\033[0m'+'Columnas totales:'+'\\033[92m\\033[1m', df.shape[1])\n",
        "print('\\033[0m\\033[92m'+'*' * 30+'\\033[0m')\n",
        "print('\\n')\n",
        "\n",
        "# --- Print Dataset Detail ---\n",
        "print('\\033[92m\\033[1m'+'. Detalles del dataset:.'+'\\033[0m')\n",
        "print('\\033[0m\\033[92m'+'*' * 30+'\\033[0m')\n",
        "df.info(memory_usage = False)"
      ],
      "metadata": {
        "colab": {
          "base_uri": "https://localhost:8080/"
        },
        "id": "2SGudvaxqyu3",
        "outputId": "25f09ae9-c422-4a3b-c340-2b867b97295c"
      },
      "execution_count": 36,
      "outputs": [
        {
          "output_type": "stream",
          "name": "stdout",
          "text": [
            "\u001b[92m\u001b[1m. Información del dataset:.\u001b[0m\n",
            "\u001b[92m*\u001b[92m*\u001b[92m*\u001b[92m*\u001b[92m*\u001b[92m*\u001b[92m*\u001b[92m*\u001b[92m*\u001b[92m*\u001b[92m*\u001b[92m*\u001b[92m*\u001b[92m*\u001b[92m*\u001b[92m*\u001b[92m*\u001b[92m*\u001b[92m*\u001b[92m*\u001b[92m*\u001b[92m*\u001b[92m*\u001b[92m*\u001b[92m*\u001b[92m*\u001b[92m*\u001b[92m*\u001b[92m*\u001b[92m*\u001b[0m\n",
            "Filas totales:\u001b[92m\u001b[1m 939\n",
            "\u001b[0mColumnas totales:\u001b[92m\u001b[1m 193\n",
            "\u001b[0m\u001b[92m******************************\u001b[0m\n",
            "\n",
            "\n",
            "\u001b[92m\u001b[1m. Detalles del dataset:.\u001b[0m\n",
            "\u001b[0m\u001b[92m******************************\u001b[0m\n",
            "<class 'pandas.core.frame.DataFrame'>\n",
            "RangeIndex: 939 entries, 0 to 938\n",
            "Columns: 193 entries, location_key to relative_humidity\n",
            "dtypes: float64(152), int64(23), object(18)"
          ]
        }
      ]
    },
    {
      "cell_type": "code",
      "source": [
        "df[\"date\"].unique()"
      ],
      "metadata": {
        "colab": {
          "base_uri": "https://localhost:8080/"
        },
        "id": "5AlFBaenzH1u",
        "outputId": "89a935fc-230b-4894-dacc-6f6d3404b569"
      },
      "execution_count": 58,
      "outputs": [
        {
          "output_type": "execute_result",
          "data": {
            "text/plain": [
              "array(['2020-01-01', '2020-01-02', '2020-01-03', '2020-01-04',\n",
              "       '2020-01-05', '2020-01-06', '2020-01-07', '2020-01-08',\n",
              "       '2020-01-09', '2020-01-10', '2020-01-11', '2020-01-12',\n",
              "       '2020-01-13', '2020-01-14', '2020-01-15', '2020-01-16',\n",
              "       '2020-01-17', '2020-01-18', '2020-01-19', '2020-01-20',\n",
              "       '2020-01-21', '2020-01-22', '2020-01-23', '2020-01-24',\n",
              "       '2020-01-25', '2020-01-26', '2020-01-27', '2020-01-28',\n",
              "       '2020-01-29', '2020-01-30', '2020-01-31', '2020-02-01',\n",
              "       '2020-02-02', '2020-02-03', '2020-02-04', '2020-02-05',\n",
              "       '2020-02-06', '2020-02-07', '2020-02-08', '2020-02-09',\n",
              "       '2020-02-10', '2020-02-11', '2020-02-12', '2020-02-13',\n",
              "       '2020-02-14', '2020-02-15', '2020-02-16', '2020-02-17',\n",
              "       '2020-02-18', '2020-02-19', '2020-02-20', '2020-02-21',\n",
              "       '2020-02-22', '2020-02-23', '2020-02-24', '2020-02-25',\n",
              "       '2020-02-26', '2020-02-27', '2020-02-28', '2020-02-29',\n",
              "       '2020-03-01', '2020-03-02', '2020-03-03', '2020-03-04',\n",
              "       '2020-03-05', '2020-03-06', '2020-03-07', '2020-03-08',\n",
              "       '2020-03-09', '2020-03-10', '2020-03-11', '2020-03-12',\n",
              "       '2020-03-13', '2020-03-14', '2020-03-15', '2020-03-16',\n",
              "       '2020-03-17', '2020-03-18', '2020-03-19', '2020-03-20',\n",
              "       '2020-03-21', '2020-03-22', '2020-03-23', '2020-03-24',\n",
              "       '2020-03-25', '2020-03-26', '2020-03-27', '2020-03-28',\n",
              "       '2020-03-29', '2020-03-30', '2020-03-31', '2020-04-01',\n",
              "       '2020-04-02', '2020-04-03', '2020-04-04', '2020-04-05',\n",
              "       '2020-04-06', '2020-04-07', '2020-04-08', '2020-04-09',\n",
              "       '2020-04-10', '2020-04-11', '2020-04-12', '2020-04-13',\n",
              "       '2020-04-14', '2020-04-15', '2020-04-16', '2020-04-17',\n",
              "       '2020-04-18', '2020-04-19', '2020-04-20', '2020-04-21',\n",
              "       '2020-04-22', '2020-04-23', '2020-04-24', '2020-04-25',\n",
              "       '2020-04-26', '2020-04-27', '2020-04-28', '2020-04-29',\n",
              "       '2020-04-30', '2020-05-01', '2020-05-02', '2020-05-03',\n",
              "       '2020-05-04', '2020-05-05', '2020-05-06', '2020-05-07',\n",
              "       '2020-05-08', '2020-05-09', '2020-05-10', '2020-05-11',\n",
              "       '2020-05-12', '2020-05-13', '2020-05-14', '2020-05-15',\n",
              "       '2020-05-16', '2020-05-17', '2020-05-18', '2020-05-19',\n",
              "       '2020-05-20', '2020-05-21', '2020-05-22', '2020-05-23',\n",
              "       '2020-05-24', '2020-05-25', '2020-05-26', '2020-05-27',\n",
              "       '2020-05-28', '2020-05-29', '2020-05-30', '2020-05-31',\n",
              "       '2020-06-01', '2020-06-02', '2020-06-03', '2020-06-04',\n",
              "       '2020-06-05', '2020-06-06', '2020-06-07', '2020-06-08',\n",
              "       '2020-06-09', '2020-06-10', '2020-06-11', '2020-06-12',\n",
              "       '2020-06-13', '2020-06-14', '2020-06-15', '2020-06-16',\n",
              "       '2020-06-17', '2020-06-18', '2020-06-19', '2020-06-20',\n",
              "       '2020-06-21', '2020-06-22', '2020-06-23', '2020-06-24',\n",
              "       '2020-06-25', '2020-06-26', '2020-06-27', '2020-06-28',\n",
              "       '2020-06-29', '2020-06-30', '2020-07-01', '2020-07-02',\n",
              "       '2020-07-03', '2020-07-04', '2020-07-05', '2020-07-06',\n",
              "       '2020-07-07', '2020-07-08', '2020-07-09', '2020-07-10',\n",
              "       '2020-07-11', '2020-07-12', '2020-07-13', '2020-07-14',\n",
              "       '2020-07-15', '2020-07-16', '2020-07-17', '2020-07-18',\n",
              "       '2020-07-19', '2020-07-20', '2020-07-21', '2020-07-22',\n",
              "       '2020-07-23', '2020-07-24', '2020-07-25', '2020-07-26',\n",
              "       '2020-07-27', '2020-07-28', '2020-07-29', '2020-07-30',\n",
              "       '2020-07-31', '2020-08-01', '2020-08-02', '2020-08-03',\n",
              "       '2020-08-04', '2020-08-05', '2020-08-06', '2020-08-07',\n",
              "       '2020-08-08', '2020-08-09', '2020-08-10', '2020-08-11',\n",
              "       '2020-08-12', '2020-08-13', '2020-08-14', '2020-08-15',\n",
              "       '2020-08-16', '2020-08-17', '2020-08-18', '2020-08-19',\n",
              "       '2020-08-20', '2020-08-21', '2020-08-22', '2020-08-23',\n",
              "       '2020-08-24', '2020-08-25', '2020-08-26', '2020-08-27',\n",
              "       '2020-08-28', '2020-08-29', '2020-08-30', '2020-08-31',\n",
              "       '2020-09-01', '2020-09-02', '2020-09-03', '2020-09-04',\n",
              "       '2020-09-05', '2020-09-06', '2020-09-07', '2020-09-08',\n",
              "       '2020-09-09', '2020-09-10', '2020-09-11', '2020-09-12',\n",
              "       '2020-09-13', '2020-09-14', '2020-09-15', '2020-09-16',\n",
              "       '2020-09-17', '2020-09-18', '2020-09-19', '2020-09-20',\n",
              "       '2020-09-21', '2020-09-22', '2020-09-23', '2020-09-24',\n",
              "       '2020-09-25', '2020-09-26', '2020-09-27', '2020-09-28',\n",
              "       '2020-09-29', '2020-09-30', '2020-10-01', '2020-10-02',\n",
              "       '2020-10-03', '2020-10-04', '2020-10-05', '2020-10-06',\n",
              "       '2020-10-07', '2020-10-08', '2020-10-09', '2020-10-10',\n",
              "       '2020-10-11', '2020-10-12', '2020-10-13', '2020-10-14',\n",
              "       '2020-10-15', '2020-10-16', '2020-10-17', '2020-10-18',\n",
              "       '2020-10-19', '2020-10-20', '2020-10-21', '2020-10-22',\n",
              "       '2020-10-23', '2020-10-24', '2020-10-25', '2020-10-26',\n",
              "       '2020-10-27', '2020-10-28', '2020-10-29', '2020-10-30',\n",
              "       '2020-10-31', '2020-11-01', '2020-11-02', '2020-11-03',\n",
              "       '2020-11-04', '2020-11-05', '2020-11-06', '2020-11-07',\n",
              "       '2020-11-08', '2020-11-09', '2020-11-10', '2020-11-11',\n",
              "       '2020-11-12', '2020-11-13', '2020-11-14', '2020-11-15',\n",
              "       '2020-11-16', '2020-11-17', '2020-11-18', '2020-11-19',\n",
              "       '2020-11-20', '2020-11-21', '2020-11-22', '2020-11-23',\n",
              "       '2020-11-24', '2020-11-25', '2020-11-26', '2020-11-27',\n",
              "       '2020-11-28', '2020-11-29', '2020-11-30', '2020-12-01',\n",
              "       '2020-12-02', '2020-12-03', '2020-12-04', '2020-12-05',\n",
              "       '2020-12-06', '2020-12-07', '2020-12-08', '2020-12-09',\n",
              "       '2020-12-10', '2020-12-11', '2020-12-12', '2020-12-13',\n",
              "       '2020-12-14', '2020-12-15', '2020-12-16', '2020-12-17',\n",
              "       '2020-12-18', '2020-12-19', '2020-12-20', '2020-12-21',\n",
              "       '2020-12-22', '2020-12-23', '2020-12-24', '2020-12-25',\n",
              "       '2020-12-26', '2020-12-27', '2020-12-28', '2020-12-29',\n",
              "       '2020-12-30', '2020-12-31', '2021-01-01', '2021-01-02',\n",
              "       '2021-01-03', '2021-01-04', '2021-01-05', '2021-01-06',\n",
              "       '2021-01-07', '2021-01-08', '2021-01-09', '2021-01-10',\n",
              "       '2021-01-11', '2021-01-12', '2021-01-13', '2021-01-14',\n",
              "       '2021-01-15', '2021-01-16', '2021-01-17', '2021-01-18',\n",
              "       '2021-01-19', '2021-01-20', '2021-01-21', '2021-01-22',\n",
              "       '2021-01-23', '2021-01-24', '2021-01-25', '2021-01-26',\n",
              "       '2021-01-27', '2021-01-28', '2021-01-29', '2021-01-30',\n",
              "       '2021-01-31', '2021-02-01', '2021-02-02', '2021-02-03',\n",
              "       '2021-02-04', '2021-02-05', '2021-02-06', '2021-02-07',\n",
              "       '2021-02-08', '2021-02-09', '2021-02-10', '2021-02-11',\n",
              "       '2021-02-12', '2021-02-13', '2021-02-14', '2021-02-15',\n",
              "       '2021-02-16', '2021-02-17', '2021-02-18', '2021-02-19',\n",
              "       '2021-02-20', '2021-02-21', '2021-02-22', '2021-02-23',\n",
              "       '2021-02-24', '2021-02-25', '2021-02-26', '2021-02-27',\n",
              "       '2021-02-28', '2021-03-01', '2021-03-02', '2021-03-03',\n",
              "       '2021-03-04', '2021-03-05', '2021-03-06', '2021-03-07',\n",
              "       '2021-03-08', '2021-03-09', '2021-03-10', '2021-03-11',\n",
              "       '2021-03-12', '2021-03-13', '2021-03-14', '2021-03-15',\n",
              "       '2021-03-16', '2021-03-17', '2021-03-18', '2021-03-19',\n",
              "       '2021-03-20', '2021-03-21', '2021-03-22', '2021-03-23',\n",
              "       '2021-03-24', '2021-03-25', '2021-03-26', '2021-03-27',\n",
              "       '2021-03-28', '2021-03-29', '2021-03-30', '2021-03-31',\n",
              "       '2021-04-01', '2021-04-02', '2021-04-03', '2021-04-04',\n",
              "       '2021-04-05', '2021-04-06', '2021-04-07', '2021-04-08',\n",
              "       '2021-04-09', '2021-04-10', '2021-04-11', '2021-04-12',\n",
              "       '2021-04-13', '2021-04-14', '2021-04-15', '2021-04-16',\n",
              "       '2021-04-17', '2021-04-18', '2021-04-19', '2021-04-20',\n",
              "       '2021-04-21', '2021-04-22', '2021-04-23', '2021-04-24',\n",
              "       '2021-04-25', '2021-04-26', '2021-04-27', '2021-04-28',\n",
              "       '2021-04-29', '2021-04-30', '2021-05-01', '2021-05-02',\n",
              "       '2021-05-03', '2021-05-04', '2021-05-05', '2021-05-06',\n",
              "       '2021-05-07', '2021-05-08', '2021-05-09', '2021-05-10',\n",
              "       '2021-05-11', '2021-05-12', '2021-05-13', '2021-05-14',\n",
              "       '2021-05-15', '2021-05-16', '2021-05-17', '2021-05-18',\n",
              "       '2021-05-19', '2021-05-20', '2021-05-21', '2021-05-22',\n",
              "       '2021-05-23', '2021-05-24', '2021-05-25', '2021-05-26',\n",
              "       '2021-05-27', '2021-05-28', '2021-05-29', '2021-05-30',\n",
              "       '2021-05-31', '2021-06-01', '2021-06-02', '2021-06-03',\n",
              "       '2021-06-04', '2021-06-05', '2021-06-06', '2021-06-07',\n",
              "       '2021-06-08', '2021-06-09', '2021-06-10', '2021-06-11',\n",
              "       '2021-06-12', '2021-06-13', '2021-06-14', '2021-06-15',\n",
              "       '2021-06-16', '2021-06-17', '2021-06-18', '2021-06-19',\n",
              "       '2021-06-20', '2021-06-21', '2021-06-22', '2021-06-23',\n",
              "       '2021-06-24', '2021-06-25', '2021-06-26', '2021-06-27',\n",
              "       '2021-06-28', '2021-06-29', '2021-06-30', '2021-07-01',\n",
              "       '2021-07-02', '2021-07-03', '2021-07-04', '2021-07-05',\n",
              "       '2021-07-06', '2021-07-07', '2021-07-08', '2021-07-09',\n",
              "       '2021-07-10', '2021-07-11', '2021-07-12', '2021-07-13',\n",
              "       '2021-07-14', '2021-07-15', '2021-07-16', '2021-07-17',\n",
              "       '2021-07-18', '2021-07-19', '2021-07-20', '2021-07-21',\n",
              "       '2021-07-22', '2021-07-23', '2021-07-24', '2021-07-25',\n",
              "       '2021-07-26', '2021-07-27', '2021-07-28', '2021-07-29',\n",
              "       '2021-07-30', '2021-07-31', '2021-08-01', '2021-08-02',\n",
              "       '2021-08-03', '2021-08-04', '2021-08-05', '2021-08-06',\n",
              "       '2021-08-07', '2021-08-08', '2021-08-09', '2021-08-10',\n",
              "       '2021-08-11', '2021-08-12', '2021-08-13', '2021-08-14',\n",
              "       '2021-08-15', '2021-08-16', '2021-08-17', '2021-08-18',\n",
              "       '2021-08-19', '2021-08-20', '2021-08-21', '2021-08-22',\n",
              "       '2021-08-23', '2021-08-24', '2021-08-25', '2021-08-26',\n",
              "       '2021-08-27', '2021-08-28', '2021-08-29', '2021-08-30',\n",
              "       '2021-08-31', '2021-09-01', '2021-09-02', '2021-09-03',\n",
              "       '2021-09-04', '2021-09-05', '2021-09-06', '2021-09-07',\n",
              "       '2021-09-08', '2021-09-09', '2021-09-10', '2021-09-11',\n",
              "       '2021-09-12', '2021-09-13', '2021-09-14', '2021-09-15',\n",
              "       '2021-09-16', '2021-09-17', '2021-09-18', '2021-09-19',\n",
              "       '2021-09-20', '2021-09-21', '2021-09-22', '2021-09-23',\n",
              "       '2021-09-24', '2021-09-25', '2021-09-26', '2021-09-27',\n",
              "       '2021-09-28', '2021-09-29', '2021-09-30', '2021-10-01',\n",
              "       '2021-10-02', '2021-10-03', '2021-10-04', '2021-10-05',\n",
              "       '2021-10-06', '2021-10-07', '2021-10-08', '2021-10-09',\n",
              "       '2021-10-10', '2021-10-11', '2021-10-12', '2021-10-13',\n",
              "       '2021-10-14', '2021-10-15', '2021-10-16', '2021-10-17',\n",
              "       '2021-10-18', '2021-10-19', '2021-10-20', '2021-10-21',\n",
              "       '2021-10-22', '2021-10-23', '2021-10-24', '2021-10-25',\n",
              "       '2021-10-26', '2021-10-27', '2021-10-28', '2021-10-29',\n",
              "       '2021-10-30', '2021-10-31', '2021-11-01', '2021-11-02',\n",
              "       '2021-11-03', '2021-11-04', '2021-11-05', '2021-11-06',\n",
              "       '2021-11-07', '2021-11-08', '2021-11-09', '2021-11-10',\n",
              "       '2021-11-11', '2021-11-12', '2021-11-13', '2021-11-14',\n",
              "       '2021-11-15', '2021-11-16', '2021-11-17', '2021-11-18',\n",
              "       '2021-11-19', '2021-11-20', '2021-11-21', '2021-11-22',\n",
              "       '2021-11-23', '2021-11-24', '2021-11-25', '2021-11-26',\n",
              "       '2021-11-27', '2021-11-28', '2021-11-29', '2021-11-30',\n",
              "       '2021-12-01', '2021-12-02', '2021-12-03', '2021-12-04',\n",
              "       '2021-12-05', '2021-12-06', '2021-12-07', '2021-12-08',\n",
              "       '2021-12-09', '2021-12-10', '2021-12-11', '2021-12-12',\n",
              "       '2021-12-13', '2021-12-14', '2021-12-15', '2021-12-16',\n",
              "       '2021-12-17', '2021-12-18', '2021-12-19', '2021-12-20',\n",
              "       '2021-12-21', '2021-12-22', '2021-12-23', '2021-12-24',\n",
              "       '2021-12-25', '2021-12-26', '2021-12-27', '2021-12-28',\n",
              "       '2021-12-29', '2021-12-30', '2021-12-31', '2022-01-01',\n",
              "       '2022-01-02', '2022-01-03', '2022-01-04', '2022-01-05',\n",
              "       '2022-01-06', '2022-01-07', '2022-01-08', '2022-01-09',\n",
              "       '2022-01-10', '2022-01-11', '2022-01-12', '2022-01-13',\n",
              "       '2022-01-14', '2022-01-15', '2022-01-16', '2022-01-17',\n",
              "       '2022-01-18', '2022-01-19', '2022-01-20', '2022-01-21',\n",
              "       '2022-01-22', '2022-01-23', '2022-01-24', '2022-01-25',\n",
              "       '2022-01-26', '2022-01-27', '2022-01-28', '2022-01-29',\n",
              "       '2022-01-30', '2022-01-31', '2022-02-01', '2022-02-02',\n",
              "       '2022-02-03', '2022-02-04', '2022-02-05', '2022-02-06',\n",
              "       '2022-02-07', '2022-02-08', '2022-02-09', '2022-02-10',\n",
              "       '2022-02-11', '2022-02-12', '2022-02-13', '2022-02-14',\n",
              "       '2022-02-15', '2022-02-16', '2022-02-17', '2022-02-18',\n",
              "       '2022-02-19', '2022-02-20', '2022-02-21', '2022-02-22',\n",
              "       '2022-02-23', '2022-02-24', '2022-02-25', '2022-02-26',\n",
              "       '2022-02-27', '2022-02-28', '2022-03-01', '2022-03-02',\n",
              "       '2022-03-03', '2022-03-04', '2022-03-05', '2022-03-06',\n",
              "       '2022-03-07', '2022-03-08', '2022-03-09', '2022-03-10',\n",
              "       '2022-03-11', '2022-03-12', '2022-03-13', '2022-03-14',\n",
              "       '2022-03-15', '2022-03-16', '2022-03-17', '2022-03-18',\n",
              "       '2022-03-19', '2022-03-20', '2022-03-21', '2022-03-22',\n",
              "       '2022-03-23', '2022-03-24', '2022-03-25', '2022-03-26',\n",
              "       '2022-03-27', '2022-03-28', '2022-03-29', '2022-03-30',\n",
              "       '2022-03-31', '2022-04-01', '2022-04-02', '2022-04-03',\n",
              "       '2022-04-04', '2022-04-05', '2022-04-06', '2022-04-07',\n",
              "       '2022-04-08', '2022-04-09', '2022-04-10', '2022-04-11',\n",
              "       '2022-04-12', '2022-04-13', '2022-04-14', '2022-04-15',\n",
              "       '2022-04-16', '2022-04-17', '2022-04-18', '2022-04-19',\n",
              "       '2022-04-20', '2022-04-21', '2022-04-22', '2022-04-23',\n",
              "       '2022-04-24', '2022-04-25', '2022-04-26', '2022-04-27',\n",
              "       '2022-04-28', '2022-04-29', '2022-04-30', '2022-05-01',\n",
              "       '2022-05-02', '2022-05-03', '2022-05-04', '2022-05-05',\n",
              "       '2022-05-06', '2022-05-07', '2022-05-08', '2022-05-09',\n",
              "       '2022-05-10', '2022-05-11', '2022-05-12', '2022-05-13',\n",
              "       '2022-05-14', '2022-05-15', '2022-05-16', '2022-05-17',\n",
              "       '2022-05-18', '2022-05-19', '2022-05-20', '2022-05-21',\n",
              "       '2022-05-22', '2022-05-23', '2022-05-24', '2022-05-25',\n",
              "       '2022-05-26', '2022-05-27', '2022-05-28', '2022-05-29',\n",
              "       '2022-05-30', '2022-05-31', '2022-06-01', '2022-06-02',\n",
              "       '2022-06-03', '2022-06-04', '2022-06-05', '2022-06-06',\n",
              "       '2022-06-07', '2022-06-08', '2022-06-09', '2022-06-10',\n",
              "       '2022-06-11', '2022-06-12', '2022-06-13', '2022-06-14',\n",
              "       '2022-06-15', '2022-06-16', '2022-06-17', '2022-06-18',\n",
              "       '2022-06-19', '2022-06-20', '2022-06-21', '2022-06-22',\n",
              "       '2022-06-23', '2022-06-24', '2022-06-25', '2022-06-26',\n",
              "       '2022-06-27', '2022-06-28', '2022-06-29', '2022-06-30',\n",
              "       '2022-07-01', '2022-07-02', '2022-07-03', '2022-07-04',\n",
              "       '2022-07-05', '2022-07-06', '2022-07-07', '2022-07-08',\n",
              "       '2022-07-09', '2022-07-10', '2022-07-11', '2022-07-12',\n",
              "       '2022-07-13', '2022-07-14', '2022-07-15', '2022-07-16',\n",
              "       '2022-07-17', '2022-07-18', '2022-07-19', '2022-07-20',\n",
              "       '2022-07-21', '2022-07-22', '2022-07-23', '2022-07-24',\n",
              "       '2022-07-25', '2022-07-26', '2022-07-27'], dtype=object)"
            ]
          },
          "metadata": {},
          "execution_count": 58
        }
      ]
    },
    {
      "cell_type": "code",
      "source": [
        "columns = df.columns.to_list()\n",
        "columns"
      ],
      "metadata": {
        "colab": {
          "base_uri": "https://localhost:8080/"
        },
        "id": "aPjZ0sOHqQ-Q",
        "outputId": "e97e013d-e972-4f35-ee75-f26415299fa9"
      },
      "execution_count": 57,
      "outputs": [
        {
          "output_type": "execute_result",
          "data": {
            "text/plain": [
              "['location_key',\n",
              " 'date',\n",
              " 'place_id',\n",
              " 'wikidata_id',\n",
              " 'datacommons_id',\n",
              " 'country_code',\n",
              " 'country_name',\n",
              " 'iso_3166_1_alpha_2',\n",
              " 'iso_3166_1_alpha_3',\n",
              " 'aggregation_level',\n",
              " 'new_confirmed',\n",
              " 'new_deceased',\n",
              " 'cumulative_confirmed',\n",
              " 'cumulative_deceased',\n",
              " 'new_hospitalized_patients',\n",
              " 'cumulative_hospitalized_patients',\n",
              " 'new_intensive_care_patients',\n",
              " 'cumulative_intensive_care_patients',\n",
              " 'new_confirmed_age_0',\n",
              " 'new_confirmed_age_1',\n",
              " 'new_confirmed_age_2',\n",
              " 'new_confirmed_age_3',\n",
              " 'new_confirmed_age_4',\n",
              " 'new_confirmed_age_5',\n",
              " 'new_confirmed_age_6',\n",
              " 'new_confirmed_age_7',\n",
              " 'new_confirmed_age_8',\n",
              " 'cumulative_confirmed_age_0',\n",
              " 'cumulative_confirmed_age_1',\n",
              " 'cumulative_confirmed_age_2',\n",
              " 'cumulative_confirmed_age_3',\n",
              " 'cumulative_confirmed_age_4',\n",
              " 'cumulative_confirmed_age_5',\n",
              " 'cumulative_confirmed_age_6',\n",
              " 'cumulative_confirmed_age_7',\n",
              " 'cumulative_confirmed_age_8',\n",
              " 'new_deceased_age_0',\n",
              " 'new_deceased_age_1',\n",
              " 'new_deceased_age_2',\n",
              " 'new_deceased_age_3',\n",
              " 'new_deceased_age_4',\n",
              " 'new_deceased_age_5',\n",
              " 'new_deceased_age_6',\n",
              " 'new_deceased_age_7',\n",
              " 'new_deceased_age_8',\n",
              " 'cumulative_deceased_age_0',\n",
              " 'cumulative_deceased_age_1',\n",
              " 'cumulative_deceased_age_2',\n",
              " 'cumulative_deceased_age_3',\n",
              " 'cumulative_deceased_age_4',\n",
              " 'cumulative_deceased_age_5',\n",
              " 'cumulative_deceased_age_6',\n",
              " 'cumulative_deceased_age_7',\n",
              " 'cumulative_deceased_age_8',\n",
              " 'new_hospitalized_patients_age_0',\n",
              " 'new_hospitalized_patients_age_1',\n",
              " 'new_hospitalized_patients_age_2',\n",
              " 'new_hospitalized_patients_age_3',\n",
              " 'new_hospitalized_patients_age_4',\n",
              " 'new_hospitalized_patients_age_5',\n",
              " 'new_hospitalized_patients_age_6',\n",
              " 'new_hospitalized_patients_age_7',\n",
              " 'new_hospitalized_patients_age_8',\n",
              " 'cumulative_hospitalized_patients_age_0',\n",
              " 'cumulative_hospitalized_patients_age_1',\n",
              " 'cumulative_hospitalized_patients_age_2',\n",
              " 'cumulative_hospitalized_patients_age_3',\n",
              " 'cumulative_hospitalized_patients_age_4',\n",
              " 'cumulative_hospitalized_patients_age_5',\n",
              " 'cumulative_hospitalized_patients_age_6',\n",
              " 'cumulative_hospitalized_patients_age_7',\n",
              " 'cumulative_hospitalized_patients_age_8',\n",
              " 'new_intensive_care_patients_age_0',\n",
              " 'new_intensive_care_patients_age_1',\n",
              " 'new_intensive_care_patients_age_2',\n",
              " 'new_intensive_care_patients_age_3',\n",
              " 'new_intensive_care_patients_age_4',\n",
              " 'new_intensive_care_patients_age_5',\n",
              " 'new_intensive_care_patients_age_6',\n",
              " 'new_intensive_care_patients_age_7',\n",
              " 'new_intensive_care_patients_age_8',\n",
              " 'cumulative_intensive_care_patients_age_0',\n",
              " 'cumulative_intensive_care_patients_age_1',\n",
              " 'cumulative_intensive_care_patients_age_2',\n",
              " 'cumulative_intensive_care_patients_age_3',\n",
              " 'cumulative_intensive_care_patients_age_4',\n",
              " 'cumulative_intensive_care_patients_age_5',\n",
              " 'cumulative_intensive_care_patients_age_6',\n",
              " 'cumulative_intensive_care_patients_age_7',\n",
              " 'cumulative_intensive_care_patients_age_8',\n",
              " 'age_bin_0',\n",
              " 'age_bin_1',\n",
              " 'age_bin_2',\n",
              " 'age_bin_3',\n",
              " 'age_bin_4',\n",
              " 'age_bin_5',\n",
              " 'age_bin_6',\n",
              " 'age_bin_7',\n",
              " 'age_bin_8',\n",
              " 'new_confirmed_male',\n",
              " 'new_confirmed_female',\n",
              " 'cumulative_confirmed_male',\n",
              " 'cumulative_confirmed_female',\n",
              " 'new_deceased_male',\n",
              " 'new_deceased_female',\n",
              " 'cumulative_deceased_male',\n",
              " 'cumulative_deceased_female',\n",
              " 'new_hospitalized_patients_male',\n",
              " 'new_hospitalized_patients_female',\n",
              " 'cumulative_hospitalized_patients_male',\n",
              " 'cumulative_hospitalized_patients_female',\n",
              " 'new_intensive_care_patients_male',\n",
              " 'new_intensive_care_patients_female',\n",
              " 'cumulative_intensive_care_patients_male',\n",
              " 'cumulative_intensive_care_patients_female',\n",
              " 'population',\n",
              " 'population_male',\n",
              " 'population_female',\n",
              " 'population_rural',\n",
              " 'population_urban',\n",
              " 'population_largest_city',\n",
              " 'population_clustered',\n",
              " 'population_density',\n",
              " 'human_development_index',\n",
              " 'population_age_00_09',\n",
              " 'population_age_10_19',\n",
              " 'population_age_20_29',\n",
              " 'population_age_30_39',\n",
              " 'population_age_40_49',\n",
              " 'population_age_50_59',\n",
              " 'population_age_60_69',\n",
              " 'population_age_70_79',\n",
              " 'population_age_80_and_older',\n",
              " 'gdp_usd',\n",
              " 'gdp_per_capita_usd',\n",
              " 'human_capital_index',\n",
              " 'openstreetmap_id',\n",
              " 'latitude',\n",
              " 'longitude',\n",
              " 'area_sq_km',\n",
              " 'area_rural_sq_km',\n",
              " 'area_urban_sq_km',\n",
              " 'life_expectancy',\n",
              " 'smoking_prevalence',\n",
              " 'diabetes_prevalence',\n",
              " 'infant_mortality_rate',\n",
              " 'adult_male_mortality_rate',\n",
              " 'adult_female_mortality_rate',\n",
              " 'pollution_mortality_rate',\n",
              " 'comorbidity_mortality_rate',\n",
              " 'nurses_per_1000',\n",
              " 'physicians_per_1000',\n",
              " 'health_expenditure_usd',\n",
              " 'out_of_pocket_health_expenditure_usd',\n",
              " 'mobility_retail_and_recreation',\n",
              " 'mobility_grocery_and_pharmacy',\n",
              " 'mobility_parks',\n",
              " 'mobility_transit_stations',\n",
              " 'mobility_workplaces',\n",
              " 'mobility_residential',\n",
              " 'school_closing',\n",
              " 'workplace_closing',\n",
              " 'cancel_public_events',\n",
              " 'restrictions_on_gatherings',\n",
              " 'public_transport_closing',\n",
              " 'stay_at_home_requirements',\n",
              " 'restrictions_on_internal_movement',\n",
              " 'international_travel_controls',\n",
              " 'income_support',\n",
              " 'debt_relief',\n",
              " 'public_information_campaigns',\n",
              " 'testing_policy',\n",
              " 'contact_tracing',\n",
              " 'investment_in_vaccines',\n",
              " 'facial_coverings',\n",
              " 'vaccination_policy',\n",
              " 'stringency_index',\n",
              " 'average_temperature_celsius',\n",
              " 'minimum_temperature_celsius',\n",
              " 'maximum_temperature_celsius',\n",
              " 'rainfall_mm',\n",
              " 'dew_point',\n",
              " 'relative_humidity']"
            ]
          },
          "metadata": {},
          "execution_count": 57
        }
      ]
    },
    {
      "cell_type": "markdown",
      "source": [
        "## Datos Faltantes"
      ],
      "metadata": {
        "id": "h8EaupKpqrZd"
      }
    },
    {
      "cell_type": "code",
      "source": [
        "missing_data = df.isnull().sum(axis = 0)\n",
        "missing_data = missing_data[missing_data > 0]\n",
        "percentage_missing = missing_data / df.shape[0]*100\n",
        "df_missing = pd.DataFrame()\n",
        "df_missing[\"Número (n)\"] = missing_data\n",
        "df_missing[\"Porcentaje (%)\"] = percentage_missing\n",
        "(df_missing.sort_values(by = \"Número (n)\", ascending = False))"
      ],
      "metadata": {
        "colab": {
          "base_uri": "https://localhost:8080/",
          "height": 424
        },
        "id": "-6LdhcidqT_y",
        "outputId": "32ff26ec-e0e9-424a-cb00-618fef93bb4d"
      },
      "execution_count": 38,
      "outputs": [
        {
          "output_type": "execute_result",
          "data": {
            "text/plain": [
              "                                       Número (n)  Porcentaje (%)\n",
              "snowfall_mm                                   802       85.410011\n",
              "new_persons_fully_vaccinated                  635       67.625133\n",
              "cumulative_persons_fully_vaccinated           634       67.518637\n",
              "cumulative_vaccine_doses_administered         631       67.199148\n",
              "cumulative_persons_vaccinated                 627       66.773163\n",
              "...                                           ...             ...\n",
              "public_transport_closing                        3        0.319489\n",
              "stay_at_home_requirements                       3        0.319489\n",
              "debt_relief                                     3        0.319489\n",
              "income_support                                  3        0.319489\n",
              "new_confirmed                                   3        0.319489\n",
              "\n",
              "[144 rows x 2 columns]"
            ],
            "text/html": [
              "\n",
              "  <div id=\"df-ae3402db-143f-460e-a1f1-7832d2b286a0\">\n",
              "    <div class=\"colab-df-container\">\n",
              "      <div>\n",
              "<style scoped>\n",
              "    .dataframe tbody tr th:only-of-type {\n",
              "        vertical-align: middle;\n",
              "    }\n",
              "\n",
              "    .dataframe tbody tr th {\n",
              "        vertical-align: top;\n",
              "    }\n",
              "\n",
              "    .dataframe thead th {\n",
              "        text-align: right;\n",
              "    }\n",
              "</style>\n",
              "<table border=\"1\" class=\"dataframe\">\n",
              "  <thead>\n",
              "    <tr style=\"text-align: right;\">\n",
              "      <th></th>\n",
              "      <th>Número (n)</th>\n",
              "      <th>Porcentaje (%)</th>\n",
              "    </tr>\n",
              "  </thead>\n",
              "  <tbody>\n",
              "    <tr>\n",
              "      <th>snowfall_mm</th>\n",
              "      <td>802</td>\n",
              "      <td>85.410011</td>\n",
              "    </tr>\n",
              "    <tr>\n",
              "      <th>new_persons_fully_vaccinated</th>\n",
              "      <td>635</td>\n",
              "      <td>67.625133</td>\n",
              "    </tr>\n",
              "    <tr>\n",
              "      <th>cumulative_persons_fully_vaccinated</th>\n",
              "      <td>634</td>\n",
              "      <td>67.518637</td>\n",
              "    </tr>\n",
              "    <tr>\n",
              "      <th>cumulative_vaccine_doses_administered</th>\n",
              "      <td>631</td>\n",
              "      <td>67.199148</td>\n",
              "    </tr>\n",
              "    <tr>\n",
              "      <th>cumulative_persons_vaccinated</th>\n",
              "      <td>627</td>\n",
              "      <td>66.773163</td>\n",
              "    </tr>\n",
              "    <tr>\n",
              "      <th>...</th>\n",
              "      <td>...</td>\n",
              "      <td>...</td>\n",
              "    </tr>\n",
              "    <tr>\n",
              "      <th>public_transport_closing</th>\n",
              "      <td>3</td>\n",
              "      <td>0.319489</td>\n",
              "    </tr>\n",
              "    <tr>\n",
              "      <th>stay_at_home_requirements</th>\n",
              "      <td>3</td>\n",
              "      <td>0.319489</td>\n",
              "    </tr>\n",
              "    <tr>\n",
              "      <th>debt_relief</th>\n",
              "      <td>3</td>\n",
              "      <td>0.319489</td>\n",
              "    </tr>\n",
              "    <tr>\n",
              "      <th>income_support</th>\n",
              "      <td>3</td>\n",
              "      <td>0.319489</td>\n",
              "    </tr>\n",
              "    <tr>\n",
              "      <th>new_confirmed</th>\n",
              "      <td>3</td>\n",
              "      <td>0.319489</td>\n",
              "    </tr>\n",
              "  </tbody>\n",
              "</table>\n",
              "<p>144 rows × 2 columns</p>\n",
              "</div>\n",
              "      <button class=\"colab-df-convert\" onclick=\"convertToInteractive('df-ae3402db-143f-460e-a1f1-7832d2b286a0')\"\n",
              "              title=\"Convert this dataframe to an interactive table.\"\n",
              "              style=\"display:none;\">\n",
              "        \n",
              "  <svg xmlns=\"http://www.w3.org/2000/svg\" height=\"24px\"viewBox=\"0 0 24 24\"\n",
              "       width=\"24px\">\n",
              "    <path d=\"M0 0h24v24H0V0z\" fill=\"none\"/>\n",
              "    <path d=\"M18.56 5.44l.94 2.06.94-2.06 2.06-.94-2.06-.94-.94-2.06-.94 2.06-2.06.94zm-11 1L8.5 8.5l.94-2.06 2.06-.94-2.06-.94L8.5 2.5l-.94 2.06-2.06.94zm10 10l.94 2.06.94-2.06 2.06-.94-2.06-.94-.94-2.06-.94 2.06-2.06.94z\"/><path d=\"M17.41 7.96l-1.37-1.37c-.4-.4-.92-.59-1.43-.59-.52 0-1.04.2-1.43.59L10.3 9.45l-7.72 7.72c-.78.78-.78 2.05 0 2.83L4 21.41c.39.39.9.59 1.41.59.51 0 1.02-.2 1.41-.59l7.78-7.78 2.81-2.81c.8-.78.8-2.07 0-2.86zM5.41 20L4 18.59l7.72-7.72 1.47 1.35L5.41 20z\"/>\n",
              "  </svg>\n",
              "      </button>\n",
              "      \n",
              "  <style>\n",
              "    .colab-df-container {\n",
              "      display:flex;\n",
              "      flex-wrap:wrap;\n",
              "      gap: 12px;\n",
              "    }\n",
              "\n",
              "    .colab-df-convert {\n",
              "      background-color: #E8F0FE;\n",
              "      border: none;\n",
              "      border-radius: 50%;\n",
              "      cursor: pointer;\n",
              "      display: none;\n",
              "      fill: #1967D2;\n",
              "      height: 32px;\n",
              "      padding: 0 0 0 0;\n",
              "      width: 32px;\n",
              "    }\n",
              "\n",
              "    .colab-df-convert:hover {\n",
              "      background-color: #E2EBFA;\n",
              "      box-shadow: 0px 1px 2px rgba(60, 64, 67, 0.3), 0px 1px 3px 1px rgba(60, 64, 67, 0.15);\n",
              "      fill: #174EA6;\n",
              "    }\n",
              "\n",
              "    [theme=dark] .colab-df-convert {\n",
              "      background-color: #3B4455;\n",
              "      fill: #D2E3FC;\n",
              "    }\n",
              "\n",
              "    [theme=dark] .colab-df-convert:hover {\n",
              "      background-color: #434B5C;\n",
              "      box-shadow: 0px 1px 3px 1px rgba(0, 0, 0, 0.15);\n",
              "      filter: drop-shadow(0px 1px 2px rgba(0, 0, 0, 0.3));\n",
              "      fill: #FFFFFF;\n",
              "    }\n",
              "  </style>\n",
              "\n",
              "      <script>\n",
              "        const buttonEl =\n",
              "          document.querySelector('#df-ae3402db-143f-460e-a1f1-7832d2b286a0 button.colab-df-convert');\n",
              "        buttonEl.style.display =\n",
              "          google.colab.kernel.accessAllowed ? 'block' : 'none';\n",
              "\n",
              "        async function convertToInteractive(key) {\n",
              "          const element = document.querySelector('#df-ae3402db-143f-460e-a1f1-7832d2b286a0');\n",
              "          const dataTable =\n",
              "            await google.colab.kernel.invokeFunction('convertToInteractive',\n",
              "                                                     [key], {});\n",
              "          if (!dataTable) return;\n",
              "\n",
              "          const docLinkHtml = 'Like what you see? Visit the ' +\n",
              "            '<a target=\"_blank\" href=https://colab.research.google.com/notebooks/data_table.ipynb>data table notebook</a>'\n",
              "            + ' to learn more about interactive tables.';\n",
              "          element.innerHTML = '';\n",
              "          dataTable['output_type'] = 'display_data';\n",
              "          await google.colab.output.renderOutput(dataTable, element);\n",
              "          const docLink = document.createElement('div');\n",
              "          docLink.innerHTML = docLinkHtml;\n",
              "          element.appendChild(docLink);\n",
              "        }\n",
              "      </script>\n",
              "    </div>\n",
              "  </div>\n",
              "  "
            ]
          },
          "metadata": {},
          "execution_count": 38
        }
      ]
    },
    {
      "cell_type": "markdown",
      "source": [
        "Borramos todas las columnas que tengan más de un 20% de los datos faltantes"
      ],
      "metadata": {
        "id": "GD--XFN9tLXM"
      }
    },
    {
      "cell_type": "code",
      "source": [
        "delete_columns = df_missing[df_missing[\"Porcentaje (%)\"]>20].T.columns.to_list()"
      ],
      "metadata": {
        "id": "9GC4SuLLrhtL"
      },
      "execution_count": 47,
      "outputs": []
    },
    {
      "cell_type": "code",
      "source": [
        "df.drop(delete_columns, axis=1, inplace = True)"
      ],
      "metadata": {
        "id": "cjwQfN0vtq1G"
      },
      "execution_count": 49,
      "outputs": []
    },
    {
      "cell_type": "markdown",
      "source": [
        "Los datos faltantes que nos quedan los analizamos"
      ],
      "metadata": {
        "id": "NJqq3Z3puUDd"
      }
    },
    {
      "cell_type": "code",
      "source": [
        "replace_columns = df_missing[df_missing[\"Porcentaje (%)\"]<=20].T.columns.to_list()"
      ],
      "metadata": {
        "id": "RvJs1UFwt2GT"
      },
      "execution_count": 51,
      "outputs": []
    },
    {
      "cell_type": "code",
      "source": [
        "replace_columns"
      ],
      "metadata": {
        "colab": {
          "base_uri": "https://localhost:8080/"
        },
        "id": "WGpKBFOvvMsL",
        "outputId": "92c1c6a8-1739-448c-cbec-026ef3873c52"
      },
      "execution_count": 56,
      "outputs": [
        {
          "output_type": "execute_result",
          "data": {
            "text/plain": [
              "['new_confirmed',\n",
              " 'new_deceased',\n",
              " 'cumulative_confirmed',\n",
              " 'cumulative_deceased',\n",
              " 'new_hospitalized_patients',\n",
              " 'cumulative_hospitalized_patients',\n",
              " 'new_intensive_care_patients',\n",
              " 'cumulative_intensive_care_patients',\n",
              " 'new_confirmed_age_0',\n",
              " 'new_confirmed_age_1',\n",
              " 'new_confirmed_age_2',\n",
              " 'new_confirmed_age_3',\n",
              " 'new_confirmed_age_4',\n",
              " 'new_confirmed_age_5',\n",
              " 'new_confirmed_age_6',\n",
              " 'new_confirmed_age_7',\n",
              " 'new_confirmed_age_8',\n",
              " 'cumulative_confirmed_age_0',\n",
              " 'cumulative_confirmed_age_1',\n",
              " 'cumulative_confirmed_age_2',\n",
              " 'cumulative_confirmed_age_3',\n",
              " 'cumulative_confirmed_age_4',\n",
              " 'cumulative_confirmed_age_5',\n",
              " 'cumulative_confirmed_age_6',\n",
              " 'cumulative_confirmed_age_7',\n",
              " 'cumulative_confirmed_age_8',\n",
              " 'new_deceased_age_0',\n",
              " 'new_deceased_age_1',\n",
              " 'new_deceased_age_2',\n",
              " 'new_deceased_age_3',\n",
              " 'new_deceased_age_4',\n",
              " 'new_deceased_age_5',\n",
              " 'new_deceased_age_6',\n",
              " 'new_deceased_age_7',\n",
              " 'new_deceased_age_8',\n",
              " 'cumulative_deceased_age_0',\n",
              " 'cumulative_deceased_age_1',\n",
              " 'cumulative_deceased_age_2',\n",
              " 'cumulative_deceased_age_3',\n",
              " 'cumulative_deceased_age_4',\n",
              " 'cumulative_deceased_age_5',\n",
              " 'cumulative_deceased_age_6',\n",
              " 'cumulative_deceased_age_7',\n",
              " 'cumulative_deceased_age_8',\n",
              " 'new_hospitalized_patients_age_0',\n",
              " 'new_hospitalized_patients_age_1',\n",
              " 'new_hospitalized_patients_age_2',\n",
              " 'new_hospitalized_patients_age_3',\n",
              " 'new_hospitalized_patients_age_4',\n",
              " 'new_hospitalized_patients_age_5',\n",
              " 'new_hospitalized_patients_age_6',\n",
              " 'new_hospitalized_patients_age_7',\n",
              " 'new_hospitalized_patients_age_8',\n",
              " 'cumulative_hospitalized_patients_age_0',\n",
              " 'cumulative_hospitalized_patients_age_1',\n",
              " 'cumulative_hospitalized_patients_age_2',\n",
              " 'cumulative_hospitalized_patients_age_3',\n",
              " 'cumulative_hospitalized_patients_age_4',\n",
              " 'cumulative_hospitalized_patients_age_5',\n",
              " 'cumulative_hospitalized_patients_age_6',\n",
              " 'cumulative_hospitalized_patients_age_7',\n",
              " 'cumulative_hospitalized_patients_age_8',\n",
              " 'new_intensive_care_patients_age_0',\n",
              " 'new_intensive_care_patients_age_1',\n",
              " 'new_intensive_care_patients_age_2',\n",
              " 'new_intensive_care_patients_age_3',\n",
              " 'new_intensive_care_patients_age_4',\n",
              " 'new_intensive_care_patients_age_5',\n",
              " 'new_intensive_care_patients_age_6',\n",
              " 'new_intensive_care_patients_age_7',\n",
              " 'new_intensive_care_patients_age_8',\n",
              " 'cumulative_intensive_care_patients_age_0',\n",
              " 'cumulative_intensive_care_patients_age_1',\n",
              " 'cumulative_intensive_care_patients_age_2',\n",
              " 'cumulative_intensive_care_patients_age_3',\n",
              " 'cumulative_intensive_care_patients_age_4',\n",
              " 'cumulative_intensive_care_patients_age_5',\n",
              " 'cumulative_intensive_care_patients_age_6',\n",
              " 'cumulative_intensive_care_patients_age_7',\n",
              " 'cumulative_intensive_care_patients_age_8',\n",
              " 'age_bin_0',\n",
              " 'age_bin_1',\n",
              " 'age_bin_2',\n",
              " 'age_bin_3',\n",
              " 'age_bin_4',\n",
              " 'age_bin_5',\n",
              " 'age_bin_6',\n",
              " 'age_bin_7',\n",
              " 'age_bin_8',\n",
              " 'new_confirmed_male',\n",
              " 'new_confirmed_female',\n",
              " 'cumulative_confirmed_male',\n",
              " 'cumulative_confirmed_female',\n",
              " 'new_deceased_male',\n",
              " 'new_deceased_female',\n",
              " 'cumulative_deceased_male',\n",
              " 'cumulative_deceased_female',\n",
              " 'new_hospitalized_patients_male',\n",
              " 'new_hospitalized_patients_female',\n",
              " 'cumulative_hospitalized_patients_male',\n",
              " 'cumulative_hospitalized_patients_female',\n",
              " 'new_intensive_care_patients_male',\n",
              " 'new_intensive_care_patients_female',\n",
              " 'cumulative_intensive_care_patients_male',\n",
              " 'cumulative_intensive_care_patients_female',\n",
              " 'mobility_retail_and_recreation',\n",
              " 'mobility_grocery_and_pharmacy',\n",
              " 'mobility_parks',\n",
              " 'mobility_transit_stations',\n",
              " 'mobility_workplaces',\n",
              " 'mobility_residential',\n",
              " 'school_closing',\n",
              " 'workplace_closing',\n",
              " 'cancel_public_events',\n",
              " 'restrictions_on_gatherings',\n",
              " 'public_transport_closing',\n",
              " 'stay_at_home_requirements',\n",
              " 'restrictions_on_internal_movement',\n",
              " 'international_travel_controls',\n",
              " 'income_support',\n",
              " 'debt_relief',\n",
              " 'public_information_campaigns',\n",
              " 'testing_policy',\n",
              " 'contact_tracing',\n",
              " 'investment_in_vaccines',\n",
              " 'facial_coverings',\n",
              " 'vaccination_policy',\n",
              " 'stringency_index',\n",
              " 'average_temperature_celsius',\n",
              " 'minimum_temperature_celsius',\n",
              " 'maximum_temperature_celsius',\n",
              " 'rainfall_mm',\n",
              " 'dew_point',\n",
              " 'relative_humidity']"
            ]
          },
          "metadata": {},
          "execution_count": 56
        }
      ]
    },
    {
      "cell_type": "code",
      "source": [
        "df[replace_columns].dtypes.to_list()"
      ],
      "metadata": {
        "colab": {
          "base_uri": "https://localhost:8080/"
        },
        "id": "6_JxAzq5u2id",
        "outputId": "c42f7cd5-dd16-436b-a3fd-823f9a499df1"
      },
      "execution_count": 55,
      "outputs": [
        {
          "output_type": "execute_result",
          "data": {
            "text/plain": [
              "[dtype('float64'),\n",
              " dtype('float64'),\n",
              " dtype('float64'),\n",
              " dtype('float64'),\n",
              " dtype('float64'),\n",
              " dtype('float64'),\n",
              " dtype('float64'),\n",
              " dtype('float64'),\n",
              " dtype('float64'),\n",
              " dtype('float64'),\n",
              " dtype('float64'),\n",
              " dtype('float64'),\n",
              " dtype('float64'),\n",
              " dtype('float64'),\n",
              " dtype('float64'),\n",
              " dtype('float64'),\n",
              " dtype('float64'),\n",
              " dtype('float64'),\n",
              " dtype('float64'),\n",
              " dtype('float64'),\n",
              " dtype('float64'),\n",
              " dtype('float64'),\n",
              " dtype('float64'),\n",
              " dtype('float64'),\n",
              " dtype('float64'),\n",
              " dtype('float64'),\n",
              " dtype('float64'),\n",
              " dtype('float64'),\n",
              " dtype('float64'),\n",
              " dtype('float64'),\n",
              " dtype('float64'),\n",
              " dtype('float64'),\n",
              " dtype('float64'),\n",
              " dtype('float64'),\n",
              " dtype('float64'),\n",
              " dtype('float64'),\n",
              " dtype('float64'),\n",
              " dtype('float64'),\n",
              " dtype('float64'),\n",
              " dtype('float64'),\n",
              " dtype('float64'),\n",
              " dtype('float64'),\n",
              " dtype('float64'),\n",
              " dtype('float64'),\n",
              " dtype('float64'),\n",
              " dtype('float64'),\n",
              " dtype('float64'),\n",
              " dtype('float64'),\n",
              " dtype('float64'),\n",
              " dtype('float64'),\n",
              " dtype('float64'),\n",
              " dtype('float64'),\n",
              " dtype('float64'),\n",
              " dtype('float64'),\n",
              " dtype('float64'),\n",
              " dtype('float64'),\n",
              " dtype('float64'),\n",
              " dtype('float64'),\n",
              " dtype('float64'),\n",
              " dtype('float64'),\n",
              " dtype('float64'),\n",
              " dtype('float64'),\n",
              " dtype('float64'),\n",
              " dtype('float64'),\n",
              " dtype('float64'),\n",
              " dtype('float64'),\n",
              " dtype('float64'),\n",
              " dtype('float64'),\n",
              " dtype('float64'),\n",
              " dtype('float64'),\n",
              " dtype('float64'),\n",
              " dtype('float64'),\n",
              " dtype('float64'),\n",
              " dtype('float64'),\n",
              " dtype('float64'),\n",
              " dtype('float64'),\n",
              " dtype('float64'),\n",
              " dtype('float64'),\n",
              " dtype('float64'),\n",
              " dtype('float64'),\n",
              " dtype('O'),\n",
              " dtype('O'),\n",
              " dtype('O'),\n",
              " dtype('O'),\n",
              " dtype('O'),\n",
              " dtype('O'),\n",
              " dtype('O'),\n",
              " dtype('O'),\n",
              " dtype('O'),\n",
              " dtype('float64'),\n",
              " dtype('float64'),\n",
              " dtype('float64'),\n",
              " dtype('float64'),\n",
              " dtype('float64'),\n",
              " dtype('float64'),\n",
              " dtype('float64'),\n",
              " dtype('float64'),\n",
              " dtype('float64'),\n",
              " dtype('float64'),\n",
              " dtype('float64'),\n",
              " dtype('float64'),\n",
              " dtype('float64'),\n",
              " dtype('float64'),\n",
              " dtype('float64'),\n",
              " dtype('float64'),\n",
              " dtype('float64'),\n",
              " dtype('float64'),\n",
              " dtype('float64'),\n",
              " dtype('float64'),\n",
              " dtype('float64'),\n",
              " dtype('float64'),\n",
              " dtype('float64'),\n",
              " dtype('float64'),\n",
              " dtype('float64'),\n",
              " dtype('float64'),\n",
              " dtype('float64'),\n",
              " dtype('float64'),\n",
              " dtype('float64'),\n",
              " dtype('float64'),\n",
              " dtype('float64'),\n",
              " dtype('float64'),\n",
              " dtype('float64'),\n",
              " dtype('float64'),\n",
              " dtype('float64'),\n",
              " dtype('float64'),\n",
              " dtype('float64'),\n",
              " dtype('float64'),\n",
              " dtype('float64'),\n",
              " dtype('float64'),\n",
              " dtype('float64'),\n",
              " dtype('float64'),\n",
              " dtype('float64'),\n",
              " dtype('float64'),\n",
              " dtype('float64')]"
            ]
          },
          "metadata": {},
          "execution_count": 55
        }
      ]
    },
    {
      "cell_type": "markdown",
      "source": [
        "# Importo los datos"
      ],
      "metadata": {
        "id": "cvD-mZmL4Qs_"
      }
    },
    {
      "cell_type": "code",
      "source": [
        "from google.colab import drive\n",
        "drive.mount('/content/drive/')"
      ],
      "metadata": {
        "colab": {
          "base_uri": "https://localhost:8080/"
        },
        "id": "1MZNHhuE3j1P",
        "outputId": "a66627c6-b129-4331-c209-b98b9762d814"
      },
      "execution_count": 25,
      "outputs": [
        {
          "output_type": "stream",
          "name": "stdout",
          "text": [
            "Drive already mounted at /content/drive/; to attempt to forcibly remount, call drive.mount(\"/content/drive/\", force_remount=True).\n"
          ]
        }
      ]
    },
    {
      "cell_type": "code",
      "source": [
        "df = pd.read_csv(\"/content/drive/MyDrive/upgrade-hub_Data_Analytics/Final_Project/COVID_May_2020.csv\")"
      ],
      "metadata": {
        "colab": {
          "base_uri": "https://localhost:8080/"
        },
        "id": "VH0JMi2_4WVY",
        "outputId": "2fc90c5d-0df2-4231-eb51-16fefd762a56"
      },
      "execution_count": 26,
      "outputs": [
        {
          "output_type": "stream",
          "name": "stderr",
          "text": [
            "/usr/local/lib/python3.7/dist-packages/IPython/core/interactiveshell.py:2882: DtypeWarning: Columns (3) have mixed types.Specify dtype option on import or set low_memory=False.\n",
            "  exec(code_obj, self.user_global_ns, self.user_ns)\n"
          ]
        }
      ]
    },
    {
      "cell_type": "code",
      "source": [
        "# https://gist.github.com/Prakasaka/219fe5695beeb4d6311583e79933a009\n",
        "# exchange e for 033\n",
        "# --- Print Dataset Info ---\n",
        "print('\\033[92m\\033[1m'+'. Información del dataset:.'+'\\033[0m')\n",
        "print('\\033[92m*' * 30+'\\033[0m')\n",
        "print('Filas totales:'+'\\033[92m\\033[1m', df.shape[0])\n",
        "print('\\033[0m'+'Columnas totales:'+'\\033[92m\\033[1m', df.shape[1])\n",
        "print('\\033[0m\\033[92m'+'*' * 30+'\\033[0m')\n",
        "print('\\n')\n",
        "\n",
        "# --- Print Dataset Detail ---\n",
        "print('\\033[92m\\033[1m'+'. Detalles del dataset:.'+'\\033[0m')\n",
        "print('\\033[0m\\033[92m'+'*' * 30+'\\033[0m')\n",
        "df.info(memory_usage = False)"
      ],
      "metadata": {
        "colab": {
          "base_uri": "https://localhost:8080/"
        },
        "id": "8igMDKgt6IXh",
        "outputId": "0e37e0ad-e421-4011-bc30-357118750a36"
      },
      "execution_count": 4,
      "outputs": [
        {
          "output_type": "stream",
          "name": "stdout",
          "text": [
            "\u001b[92m\u001b[1m. Información del dataset:.\u001b[0m\n",
            "\u001b[92m*\u001b[92m*\u001b[92m*\u001b[92m*\u001b[92m*\u001b[92m*\u001b[92m*\u001b[92m*\u001b[92m*\u001b[92m*\u001b[92m*\u001b[92m*\u001b[92m*\u001b[92m*\u001b[92m*\u001b[92m*\u001b[92m*\u001b[92m*\u001b[92m*\u001b[92m*\u001b[92m*\u001b[92m*\u001b[92m*\u001b[92m*\u001b[92m*\u001b[92m*\u001b[92m*\u001b[92m*\u001b[92m*\u001b[92m*\u001b[0m\n",
            "Filas totales:\u001b[92m\u001b[1m 708001\n",
            "\u001b[0mColumnas totales:\u001b[92m\u001b[1m 19\n",
            "\u001b[0m\u001b[92m******************************\u001b[0m\n",
            "\n",
            "\n",
            "\u001b[92m\u001b[1m. Detalles del dataset:.\u001b[0m\n",
            "\u001b[0m\u001b[92m******************************\u001b[0m\n",
            "<class 'pandas.core.frame.DataFrame'>\n",
            "RangeIndex: 708001 entries, 0 to 708000\n",
            "Data columns (total 19 columns):\n",
            " #   Column                           Non-Null Count   Dtype  \n",
            "---  ------                           --------------   -----  \n",
            " 0   case_month                       708001 non-null  object \n",
            " 1   res_state                        707977 non-null  object \n",
            " 2   state_fips_code                  707977 non-null  float64\n",
            " 3   res_county                       649422 non-null  object \n",
            " 4   county_fips_code                 649422 non-null  float64\n",
            " 5   age_group                        687127 non-null  object \n",
            " 6   sex                              662085 non-null  object \n",
            " 7   race                             534013 non-null  object \n",
            " 8   ethnicity                        508141 non-null  object \n",
            " 9   case_positive_specimen_interval  313862 non-null  float64\n",
            " 10  case_onset_interval              347174 non-null  float64\n",
            " 11  process                          708001 non-null  object \n",
            " 12  exposure_yn                      708001 non-null  object \n",
            " 13  current_status                   708001 non-null  object \n",
            " 14  symptom_status                   708001 non-null  object \n",
            " 15  hosp_yn                          708001 non-null  object \n",
            " 16  icu_yn                           708001 non-null  object \n",
            " 17  death_yn                         647236 non-null  object \n",
            " 18  underlying_conditions_yn         65028 non-null   object \n",
            "dtypes: float64(4), object(15)"
          ]
        }
      ]
    },
    {
      "cell_type": "code",
      "source": [
        "df[\"case_month\"].unique()"
      ],
      "metadata": {
        "colab": {
          "base_uri": "https://localhost:8080/"
        },
        "id": "_bmdJAsG6Z-a",
        "outputId": "efe140d3-de40-481d-df12-c01e7ed30c8c"
      },
      "execution_count": 5,
      "outputs": [
        {
          "output_type": "execute_result",
          "data": {
            "text/plain": [
              "array(['2020-05'], dtype=object)"
            ]
          },
          "metadata": {},
          "execution_count": 5
        }
      ]
    },
    {
      "cell_type": "markdown",
      "source": [
        "## Datos faltantes"
      ],
      "metadata": {
        "id": "Vm1NzjIR6jCw"
      }
    },
    {
      "cell_type": "code",
      "source": [
        "missing_data = df.isnull().sum(axis = 0)\n",
        "missing_data = missing_data[missing_data > 0]\n",
        "percentage_missing = missing_data / df.shape[0]*100\n",
        "df_missing = pd.DataFrame()\n",
        "df_missing[\"Número (n)\"] = missing_data\n",
        "df_missing[\"Porcentaje (%)\"] = percentage_missing\n",
        "(df_missing.sort_values(by = \"Número (n)\", ascending = False))"
      ],
      "metadata": {
        "colab": {
          "base_uri": "https://localhost:8080/",
          "height": 426
        },
        "id": "hATiY4ST6div",
        "outputId": "34be32a2-9eff-4761-87b6-e4ca245f0b3a"
      },
      "execution_count": 6,
      "outputs": [
        {
          "output_type": "execute_result",
          "data": {
            "text/plain": [
              "                                 Número (n)  Porcentaje (%)\n",
              "underlying_conditions_yn             642973       90.815267\n",
              "case_positive_specimen_interval      394139       55.669272\n",
              "case_onset_interval                  360827       50.964194\n",
              "ethnicity                            199860       28.228774\n",
              "race                                 173988       24.574542\n",
              "death_yn                              60765        8.582615\n",
              "res_county                            58579        8.273858\n",
              "county_fips_code                      58579        8.273858\n",
              "sex                                   45916        6.485302\n",
              "age_group                             20874        2.948301\n",
              "res_state                                24        0.003390\n",
              "state_fips_code                          24        0.003390"
            ],
            "text/html": [
              "\n",
              "  <div id=\"df-77307b98-93b8-4616-bf12-82d1c45d800f\">\n",
              "    <div class=\"colab-df-container\">\n",
              "      <div>\n",
              "<style scoped>\n",
              "    .dataframe tbody tr th:only-of-type {\n",
              "        vertical-align: middle;\n",
              "    }\n",
              "\n",
              "    .dataframe tbody tr th {\n",
              "        vertical-align: top;\n",
              "    }\n",
              "\n",
              "    .dataframe thead th {\n",
              "        text-align: right;\n",
              "    }\n",
              "</style>\n",
              "<table border=\"1\" class=\"dataframe\">\n",
              "  <thead>\n",
              "    <tr style=\"text-align: right;\">\n",
              "      <th></th>\n",
              "      <th>Número (n)</th>\n",
              "      <th>Porcentaje (%)</th>\n",
              "    </tr>\n",
              "  </thead>\n",
              "  <tbody>\n",
              "    <tr>\n",
              "      <th>underlying_conditions_yn</th>\n",
              "      <td>642973</td>\n",
              "      <td>90.815267</td>\n",
              "    </tr>\n",
              "    <tr>\n",
              "      <th>case_positive_specimen_interval</th>\n",
              "      <td>394139</td>\n",
              "      <td>55.669272</td>\n",
              "    </tr>\n",
              "    <tr>\n",
              "      <th>case_onset_interval</th>\n",
              "      <td>360827</td>\n",
              "      <td>50.964194</td>\n",
              "    </tr>\n",
              "    <tr>\n",
              "      <th>ethnicity</th>\n",
              "      <td>199860</td>\n",
              "      <td>28.228774</td>\n",
              "    </tr>\n",
              "    <tr>\n",
              "      <th>race</th>\n",
              "      <td>173988</td>\n",
              "      <td>24.574542</td>\n",
              "    </tr>\n",
              "    <tr>\n",
              "      <th>death_yn</th>\n",
              "      <td>60765</td>\n",
              "      <td>8.582615</td>\n",
              "    </tr>\n",
              "    <tr>\n",
              "      <th>res_county</th>\n",
              "      <td>58579</td>\n",
              "      <td>8.273858</td>\n",
              "    </tr>\n",
              "    <tr>\n",
              "      <th>county_fips_code</th>\n",
              "      <td>58579</td>\n",
              "      <td>8.273858</td>\n",
              "    </tr>\n",
              "    <tr>\n",
              "      <th>sex</th>\n",
              "      <td>45916</td>\n",
              "      <td>6.485302</td>\n",
              "    </tr>\n",
              "    <tr>\n",
              "      <th>age_group</th>\n",
              "      <td>20874</td>\n",
              "      <td>2.948301</td>\n",
              "    </tr>\n",
              "    <tr>\n",
              "      <th>res_state</th>\n",
              "      <td>24</td>\n",
              "      <td>0.003390</td>\n",
              "    </tr>\n",
              "    <tr>\n",
              "      <th>state_fips_code</th>\n",
              "      <td>24</td>\n",
              "      <td>0.003390</td>\n",
              "    </tr>\n",
              "  </tbody>\n",
              "</table>\n",
              "</div>\n",
              "      <button class=\"colab-df-convert\" onclick=\"convertToInteractive('df-77307b98-93b8-4616-bf12-82d1c45d800f')\"\n",
              "              title=\"Convert this dataframe to an interactive table.\"\n",
              "              style=\"display:none;\">\n",
              "        \n",
              "  <svg xmlns=\"http://www.w3.org/2000/svg\" height=\"24px\"viewBox=\"0 0 24 24\"\n",
              "       width=\"24px\">\n",
              "    <path d=\"M0 0h24v24H0V0z\" fill=\"none\"/>\n",
              "    <path d=\"M18.56 5.44l.94 2.06.94-2.06 2.06-.94-2.06-.94-.94-2.06-.94 2.06-2.06.94zm-11 1L8.5 8.5l.94-2.06 2.06-.94-2.06-.94L8.5 2.5l-.94 2.06-2.06.94zm10 10l.94 2.06.94-2.06 2.06-.94-2.06-.94-.94-2.06-.94 2.06-2.06.94z\"/><path d=\"M17.41 7.96l-1.37-1.37c-.4-.4-.92-.59-1.43-.59-.52 0-1.04.2-1.43.59L10.3 9.45l-7.72 7.72c-.78.78-.78 2.05 0 2.83L4 21.41c.39.39.9.59 1.41.59.51 0 1.02-.2 1.41-.59l7.78-7.78 2.81-2.81c.8-.78.8-2.07 0-2.86zM5.41 20L4 18.59l7.72-7.72 1.47 1.35L5.41 20z\"/>\n",
              "  </svg>\n",
              "      </button>\n",
              "      \n",
              "  <style>\n",
              "    .colab-df-container {\n",
              "      display:flex;\n",
              "      flex-wrap:wrap;\n",
              "      gap: 12px;\n",
              "    }\n",
              "\n",
              "    .colab-df-convert {\n",
              "      background-color: #E8F0FE;\n",
              "      border: none;\n",
              "      border-radius: 50%;\n",
              "      cursor: pointer;\n",
              "      display: none;\n",
              "      fill: #1967D2;\n",
              "      height: 32px;\n",
              "      padding: 0 0 0 0;\n",
              "      width: 32px;\n",
              "    }\n",
              "\n",
              "    .colab-df-convert:hover {\n",
              "      background-color: #E2EBFA;\n",
              "      box-shadow: 0px 1px 2px rgba(60, 64, 67, 0.3), 0px 1px 3px 1px rgba(60, 64, 67, 0.15);\n",
              "      fill: #174EA6;\n",
              "    }\n",
              "\n",
              "    [theme=dark] .colab-df-convert {\n",
              "      background-color: #3B4455;\n",
              "      fill: #D2E3FC;\n",
              "    }\n",
              "\n",
              "    [theme=dark] .colab-df-convert:hover {\n",
              "      background-color: #434B5C;\n",
              "      box-shadow: 0px 1px 3px 1px rgba(0, 0, 0, 0.15);\n",
              "      filter: drop-shadow(0px 1px 2px rgba(0, 0, 0, 0.3));\n",
              "      fill: #FFFFFF;\n",
              "    }\n",
              "  </style>\n",
              "\n",
              "      <script>\n",
              "        const buttonEl =\n",
              "          document.querySelector('#df-77307b98-93b8-4616-bf12-82d1c45d800f button.colab-df-convert');\n",
              "        buttonEl.style.display =\n",
              "          google.colab.kernel.accessAllowed ? 'block' : 'none';\n",
              "\n",
              "        async function convertToInteractive(key) {\n",
              "          const element = document.querySelector('#df-77307b98-93b8-4616-bf12-82d1c45d800f');\n",
              "          const dataTable =\n",
              "            await google.colab.kernel.invokeFunction('convertToInteractive',\n",
              "                                                     [key], {});\n",
              "          if (!dataTable) return;\n",
              "\n",
              "          const docLinkHtml = 'Like what you see? Visit the ' +\n",
              "            '<a target=\"_blank\" href=https://colab.research.google.com/notebooks/data_table.ipynb>data table notebook</a>'\n",
              "            + ' to learn more about interactive tables.';\n",
              "          element.innerHTML = '';\n",
              "          dataTable['output_type'] = 'display_data';\n",
              "          await google.colab.output.renderOutput(dataTable, element);\n",
              "          const docLink = document.createElement('div');\n",
              "          docLink.innerHTML = docLinkHtml;\n",
              "          element.appendChild(docLink);\n",
              "        }\n",
              "      </script>\n",
              "    </div>\n",
              "  </div>\n",
              "  "
            ]
          },
          "metadata": {},
          "execution_count": 6
        }
      ]
    },
    {
      "cell_type": "markdown",
      "source": [
        "Vamos a entender los datos que nos faltan para poder reemplazarlos para entrenar a un modelo. Para empezar, borramos la columna underlying conditions porque no tenemos suficientes datos."
      ],
      "metadata": {
        "id": "ZDSTJS3nvVbU"
      }
    },
    {
      "cell_type": "markdown",
      "source": [
        "## Exploratory Data Analysis"
      ],
      "metadata": {
        "id": "NOOebTAS1mVm"
      }
    },
    {
      "cell_type": "markdown",
      "source": [
        "### Model"
      ],
      "metadata": {
        "id": "3zhMpbC03CHH"
      }
    },
    {
      "cell_type": "markdown",
      "source": [
        "Quitamos underlying conditions porque nos faltan demasiados datos"
      ],
      "metadata": {
        "id": "YTQG8u524BGZ"
      }
    },
    {
      "cell_type": "code",
      "source": [
        "model = df.drop(\"underlying_conditions_yn\",axis = 1)"
      ],
      "metadata": {
        "id": "ciTxZPicvhSC"
      },
      "execution_count": 27,
      "outputs": []
    },
    {
      "cell_type": "markdown",
      "source": [
        "Quitamos case_month porque todo ocurre en mayo del 2020"
      ],
      "metadata": {
        "id": "tFNlxt0O4FzD"
      }
    },
    {
      "cell_type": "code",
      "source": [
        "model = model.drop(\"case_month\", axis = 1)"
      ],
      "metadata": {
        "id": "vNow8Yir4Aj8"
      },
      "execution_count": 49,
      "outputs": []
    },
    {
      "cell_type": "markdown",
      "source": [
        "Quitamos process porque solamente nos indica el proceso con el cual se descubrió que la persona tenía COVID"
      ],
      "metadata": {
        "id": "dRzvaUQE_Rip"
      }
    },
    {
      "cell_type": "code",
      "source": [
        "model = model.drop(\"process\", axis = 1)"
      ],
      "metadata": {
        "id": "rQzV8Clv_X79"
      },
      "execution_count": 55,
      "outputs": []
    },
    {
      "cell_type": "markdown",
      "source": [
        "Quitamos res_state y res_county porque son los nombres de los estados y counties donde residen los pacientes, pero esa información ya la tenemos con el FIPS code."
      ],
      "metadata": {
        "id": "vo8C57Bu_ixw"
      }
    },
    {
      "cell_type": "code",
      "source": [
        "model = model.drop([\"res_state\",\"res_county\"], axis = 1)"
      ],
      "metadata": {
        "id": "qmqnzB5R-Tiq"
      },
      "execution_count": 54,
      "outputs": []
    },
    {
      "cell_type": "markdown",
      "source": [
        "Quitamos onset interval y specimen positive interval porque se trata de cuando se detectó el COVID, no cuando empezó."
      ],
      "metadata": {
        "id": "BmQ7z03vJxDv"
      }
    },
    {
      "cell_type": "code",
      "source": [
        "model = model.drop([\"case_positive_specimen_interval\",\"case_onset_interval\"], axis = 1)"
      ],
      "metadata": {
        "id": "4bCQiF9-KBQE"
      },
      "execution_count": 86,
      "outputs": []
    },
    {
      "cell_type": "markdown",
      "source": [
        "#### Death column"
      ],
      "metadata": {
        "id": "gGVMD0Wy3GaY"
      }
    },
    {
      "cell_type": "markdown",
      "source": [
        "Quiero saber quien se muere y quien no."
      ],
      "metadata": {
        "id": "YbzIqr6qz064"
      }
    },
    {
      "cell_type": "code",
      "source": [
        "model = model[model[\"death_yn\"]!= \"Missing\"]\n",
        "model = model[model[\"death_yn\"]!= \"Unknown\"]\n",
        "model = model.dropna(subset=[\"death_yn\"])\n",
        "\n",
        "model[\"death_yn\"].value_counts()"
      ],
      "metadata": {
        "colab": {
          "base_uri": "https://localhost:8080/"
        },
        "id": "lZDzpG9Vz5mW",
        "outputId": "a86e7f0d-b69c-40a4-c0f4-98cc133d5d5a"
      },
      "execution_count": 42,
      "outputs": [
        {
          "output_type": "execute_result",
          "data": {
            "text/plain": [
              "False    319497\n",
              "True      15048\n",
              "Name: death_yn, dtype: int64"
            ]
          },
          "metadata": {},
          "execution_count": 42
        }
      ]
    },
    {
      "cell_type": "code",
      "source": [
        "model.death_yn.unique()"
      ],
      "metadata": {
        "colab": {
          "base_uri": "https://localhost:8080/"
        },
        "id": "G4-exMVi0hC6",
        "outputId": "abd5c112-c2a5-4091-887b-7e0c8c488b8c"
      },
      "execution_count": 43,
      "outputs": [
        {
          "output_type": "execute_result",
          "data": {
            "text/plain": [
              "array([False,  True])"
            ]
          },
          "metadata": {},
          "execution_count": 43
        }
      ]
    },
    {
      "cell_type": "markdown",
      "source": [
        "Ahora reemplazo los valores de la columna por True en caso de muerte y False en caso de no muerte"
      ],
      "metadata": {
        "id": "Hu5_ef2K0cME"
      }
    },
    {
      "cell_type": "code",
      "source": [
        "model[\"death_yn\"].replace({\"Yes\": True, \"No\": False}, inplace = True)\n"
      ],
      "metadata": {
        "id": "qmaadrjt1Mhl"
      },
      "execution_count": 44,
      "outputs": []
    },
    {
      "cell_type": "code",
      "source": [
        "model.death_yn.unique()"
      ],
      "metadata": {
        "colab": {
          "base_uri": "https://localhost:8080/"
        },
        "id": "OYrcJyzU1bWr",
        "outputId": "cb7e58e0-6bff-41d0-dabc-85f24cc3028b"
      },
      "execution_count": 45,
      "outputs": [
        {
          "output_type": "execute_result",
          "data": {
            "text/plain": [
              "array([False,  True])"
            ]
          },
          "metadata": {},
          "execution_count": 45
        }
      ]
    },
    {
      "cell_type": "markdown",
      "source": [
        "#### Otras columnas"
      ],
      "metadata": {
        "id": "QCguJJgkxIfG"
      }
    },
    {
      "cell_type": "markdown",
      "source": [
        "##### Ethnicity"
      ],
      "metadata": {
        "id": "RsMH36GlBb0L"
      }
    },
    {
      "cell_type": "code",
      "source": [
        "model.columns.to_list()"
      ],
      "metadata": {
        "colab": {
          "base_uri": "https://localhost:8080/"
        },
        "id": "C7VFOBWe3LH3",
        "outputId": "3e66474b-cd7b-4063-a2cb-a78133b0c46d"
      },
      "execution_count": 56,
      "outputs": [
        {
          "output_type": "execute_result",
          "data": {
            "text/plain": [
              "['state_fips_code',\n",
              " 'county_fips_code',\n",
              " 'age_group',\n",
              " 'sex',\n",
              " 'race',\n",
              " 'ethnicity',\n",
              " 'case_positive_specimen_interval',\n",
              " 'case_onset_interval',\n",
              " 'exposure_yn',\n",
              " 'current_status',\n",
              " 'symptom_status',\n",
              " 'hosp_yn',\n",
              " 'icu_yn',\n",
              " 'death_yn']"
            ]
          },
          "metadata": {},
          "execution_count": 56
        }
      ]
    },
    {
      "cell_type": "markdown",
      "source": [
        "La columna ethinicity se corresponde a si el o la paciente es hispánic@ o no. Por lo tanto vamos a cambiarla de nombre a Hispanic y vamos a darle el valor de True si lo es, y False si no lo es."
      ],
      "metadata": {
        "id": "G9JbgTL8_Mt-"
      }
    },
    {
      "cell_type": "code",
      "source": [
        "model = model[model[\"ethnicity\"]!= \"Missing\"]\n",
        "model = model[model[\"ethnicity\"]!= \"Unknown\"]\n",
        "model = model.dropna(subset=[\"ethnicity\"])\n",
        "\n",
        "model[\"ethnicity\"].value_counts()"
      ],
      "metadata": {
        "colab": {
          "base_uri": "https://localhost:8080/"
        },
        "id": "FdSwMn_jAGhD",
        "outputId": "9561b30a-6d5d-4fdc-ead5-8f11b49d5d20"
      },
      "execution_count": 58,
      "outputs": [
        {
          "output_type": "execute_result",
          "data": {
            "text/plain": [
              "Non-Hispanic/Latino    117395\n",
              "Hispanic/Latino         44068\n",
              "Name: ethnicity, dtype: int64"
            ]
          },
          "metadata": {},
          "execution_count": 58
        }
      ]
    },
    {
      "cell_type": "code",
      "source": [
        "model[\"hispanic\"] = model[\"ethnicity\"]"
      ],
      "metadata": {
        "id": "9unV4xD7AcEB"
      },
      "execution_count": 59,
      "outputs": []
    },
    {
      "cell_type": "code",
      "source": [
        "model.columns.to_list()"
      ],
      "metadata": {
        "colab": {
          "base_uri": "https://localhost:8080/"
        },
        "id": "_kn-JWXBAgjC",
        "outputId": "25f8451f-4372-49c1-d302-464536a85be5"
      },
      "execution_count": 60,
      "outputs": [
        {
          "output_type": "execute_result",
          "data": {
            "text/plain": [
              "['state_fips_code',\n",
              " 'county_fips_code',\n",
              " 'age_group',\n",
              " 'sex',\n",
              " 'race',\n",
              " 'ethnicity',\n",
              " 'case_positive_specimen_interval',\n",
              " 'case_onset_interval',\n",
              " 'exposure_yn',\n",
              " 'current_status',\n",
              " 'symptom_status',\n",
              " 'hosp_yn',\n",
              " 'icu_yn',\n",
              " 'death_yn',\n",
              " 'hispanic']"
            ]
          },
          "metadata": {},
          "execution_count": 60
        }
      ]
    },
    {
      "cell_type": "code",
      "source": [
        "model = model[['state_fips_code',\n",
        " 'county_fips_code',\n",
        " 'age_group',\n",
        " 'sex',\n",
        " 'race',\n",
        " 'hispanic',\n",
        " 'case_positive_specimen_interval',\n",
        " 'case_onset_interval',\n",
        " 'exposure_yn',\n",
        " 'current_status',\n",
        " 'symptom_status',\n",
        " 'hosp_yn',\n",
        " 'icu_yn',\n",
        " 'death_yn']]"
      ],
      "metadata": {
        "id": "kUwmeFgmAzy0"
      },
      "execution_count": 62,
      "outputs": []
    },
    {
      "cell_type": "code",
      "source": [
        "model[\"hispanic\"].unique()"
      ],
      "metadata": {
        "colab": {
          "base_uri": "https://localhost:8080/"
        },
        "id": "gQEUR7XaBNoS",
        "outputId": "7ba1ac0d-18a9-43dc-8af3-db5ef0d37dcb"
      },
      "execution_count": 63,
      "outputs": [
        {
          "output_type": "execute_result",
          "data": {
            "text/plain": [
              "array(['Hispanic/Latino', 'Non-Hispanic/Latino'], dtype=object)"
            ]
          },
          "metadata": {},
          "execution_count": 63
        }
      ]
    },
    {
      "cell_type": "code",
      "source": [
        "model[\"hispanic\"].replace({\"Hispanic/Latino\": True, \"Non-Hispanic/Latino\": False}, inplace = True)\n"
      ],
      "metadata": {
        "id": "KqGhbUnIBKw2"
      },
      "execution_count": 65,
      "outputs": []
    },
    {
      "cell_type": "markdown",
      "source": [
        "##### Sex"
      ],
      "metadata": {
        "id": "XkkVGQLVBq0Y"
      }
    },
    {
      "cell_type": "markdown",
      "source": [
        "Con la columna de sex vamos a aplicar también un cambio en las variables: será 0 si es Male y 1 si es Female"
      ],
      "metadata": {
        "id": "K4olbuffBx_J"
      }
    },
    {
      "cell_type": "code",
      "source": [
        "model.loc[model[\"sex\"] == \"Female\", \"sex\"] = 1\n",
        "model.loc[model[\"sex\"] == \"Male\", \"sex\"] = 0"
      ],
      "metadata": {
        "id": "qXcF-S4YCsSP"
      },
      "execution_count": 66,
      "outputs": []
    },
    {
      "cell_type": "code",
      "source": [
        "model = model[model[\"sex\"]!= \"Unknown\"]"
      ],
      "metadata": {
        "id": "iiIi7e4DDFz3"
      },
      "execution_count": 68,
      "outputs": []
    },
    {
      "cell_type": "code",
      "source": [
        "model.sex.unique()"
      ],
      "metadata": {
        "colab": {
          "base_uri": "https://localhost:8080/"
        },
        "id": "mTgphmR_C5Fl",
        "outputId": "4b1987ac-60c3-4552-d7f0-5e4504c1bdf8"
      },
      "execution_count": 69,
      "outputs": [
        {
          "output_type": "execute_result",
          "data": {
            "text/plain": [
              "array([1, 0], dtype=object)"
            ]
          },
          "metadata": {},
          "execution_count": 69
        }
      ]
    },
    {
      "cell_type": "markdown",
      "source": [
        "##### Age group"
      ],
      "metadata": {
        "id": "4-Lf5q2eDezM"
      }
    },
    {
      "cell_type": "markdown",
      "source": [
        "Vamos a mirar la columna de age group"
      ],
      "metadata": {
        "id": "Sqr0gG9sDorP"
      }
    },
    {
      "cell_type": "code",
      "source": [
        "model.age_group.unique()"
      ],
      "metadata": {
        "colab": {
          "base_uri": "https://localhost:8080/"
        },
        "id": "zx8VNHsUDrQ1",
        "outputId": "cd7da301-86aa-41a5-b14a-1100be1380fe"
      },
      "execution_count": 72,
      "outputs": [
        {
          "output_type": "execute_result",
          "data": {
            "text/plain": [
              "array(['18 to 49 years', '50 to 64 years', '0 - 17 years', '65+ years'],\n",
              "      dtype=object)"
            ]
          },
          "metadata": {},
          "execution_count": 72
        }
      ]
    },
    {
      "cell_type": "markdown",
      "source": [
        "Los grupos de edad están containerizados. Vamos a cambiarlos con 0 para el grupo entre 0-17, 1 para el grupo 18-49, 2 para el grupo 50-64, y 3 para el grupo de más de 65 años."
      ],
      "metadata": {
        "id": "TO7HdE9pGgjy"
      }
    },
    {
      "cell_type": "code",
      "source": [
        "model[\"age_group\"].replace({\"0 - 17 years\": 0, \"18 to 49 years\": 1, \"50 to 64 years\": 2, \"65+ years\": 3}, inplace = True)\n"
      ],
      "metadata": {
        "id": "gjplz8BvGymN"
      },
      "execution_count": 74,
      "outputs": []
    },
    {
      "cell_type": "markdown",
      "source": [
        "##### Race"
      ],
      "metadata": {
        "id": "o9DPDspjHT7T"
      }
    },
    {
      "cell_type": "markdown",
      "source": [
        "Para race tenemos diferentes valores."
      ],
      "metadata": {
        "id": "pqJW1qcFHWx3"
      }
    },
    {
      "cell_type": "code",
      "source": [
        "model.race.unique()"
      ],
      "metadata": {
        "colab": {
          "base_uri": "https://localhost:8080/"
        },
        "id": "TVuJBdXjC6-r",
        "outputId": "bbfd91df-d2b1-4e95-a613-317de2c5ed94"
      },
      "execution_count": 76,
      "outputs": [
        {
          "output_type": "execute_result",
          "data": {
            "text/plain": [
              "array(['White', 'Unknown', 'Missing', 'Black', 'Asian',\n",
              "       'American Indian/Alaska Native',\n",
              "       'Native Hawaiian/Other Pacific Islander', 'Multiple/Other'],\n",
              "      dtype=object)"
            ]
          },
          "metadata": {},
          "execution_count": 76
        }
      ]
    },
    {
      "cell_type": "markdown",
      "source": [
        "Vamos a aplicar one hot encoding para separar por race. Para eso primero quitamos Unknown y Missing."
      ],
      "metadata": {
        "id": "5PFuZA2BHkzr"
      }
    },
    {
      "cell_type": "code",
      "source": [
        "model = model[model[\"race\"]!= \"Missing\"]\n",
        "model = model[model[\"race\"]!= \"Unknown\"]\n",
        "\n",
        "model.race.unique()"
      ],
      "metadata": {
        "colab": {
          "base_uri": "https://localhost:8080/"
        },
        "id": "bU0lv3AsDKv8",
        "outputId": "fbb0e586-a699-41bd-8575-3a6972a2c726"
      },
      "execution_count": 77,
      "outputs": [
        {
          "output_type": "execute_result",
          "data": {
            "text/plain": [
              "array(['White', 'Black', 'Asian', 'American Indian/Alaska Native',\n",
              "       'Native Hawaiian/Other Pacific Islander', 'Multiple/Other'],\n",
              "      dtype=object)"
            ]
          },
          "metadata": {},
          "execution_count": 77
        }
      ]
    },
    {
      "cell_type": "code",
      "source": [
        "pd.get_dummies(model[\"race\"])\n"
      ],
      "metadata": {
        "colab": {
          "base_uri": "https://localhost:8080/",
          "height": 424
        },
        "id": "FP7_ubOzIGfO",
        "outputId": "6d63e3e3-4ae2-4440-95be-a99442c58c48"
      },
      "execution_count": 78,
      "outputs": [
        {
          "output_type": "execute_result",
          "data": {
            "text/plain": [
              "        American Indian/Alaska Native  Asian  Black  Multiple/Other  \\\n",
              "0                                   0      0      0               0   \n",
              "1                                   0      0      0               0   \n",
              "4                                   0      0      0               0   \n",
              "6                                   0      0      0               0   \n",
              "9                                   0      0      0               0   \n",
              "...                               ...    ...    ...             ...   \n",
              "707514                              0      0      1               0   \n",
              "707515                              0      0      1               0   \n",
              "707516                              0      0      1               0   \n",
              "707517                              0      0      1               0   \n",
              "707518                              0      0      1               0   \n",
              "\n",
              "        Native Hawaiian/Other Pacific Islander  White  \n",
              "0                                            0      1  \n",
              "1                                            0      1  \n",
              "4                                            0      1  \n",
              "6                                            0      1  \n",
              "9                                            0      1  \n",
              "...                                        ...    ...  \n",
              "707514                                       0      0  \n",
              "707515                                       0      0  \n",
              "707516                                       0      0  \n",
              "707517                                       0      0  \n",
              "707518                                       0      0  \n",
              "\n",
              "[145286 rows x 6 columns]"
            ],
            "text/html": [
              "\n",
              "  <div id=\"df-59c162f1-dce7-4709-96be-ed0414cd208c\">\n",
              "    <div class=\"colab-df-container\">\n",
              "      <div>\n",
              "<style scoped>\n",
              "    .dataframe tbody tr th:only-of-type {\n",
              "        vertical-align: middle;\n",
              "    }\n",
              "\n",
              "    .dataframe tbody tr th {\n",
              "        vertical-align: top;\n",
              "    }\n",
              "\n",
              "    .dataframe thead th {\n",
              "        text-align: right;\n",
              "    }\n",
              "</style>\n",
              "<table border=\"1\" class=\"dataframe\">\n",
              "  <thead>\n",
              "    <tr style=\"text-align: right;\">\n",
              "      <th></th>\n",
              "      <th>American Indian/Alaska Native</th>\n",
              "      <th>Asian</th>\n",
              "      <th>Black</th>\n",
              "      <th>Multiple/Other</th>\n",
              "      <th>Native Hawaiian/Other Pacific Islander</th>\n",
              "      <th>White</th>\n",
              "    </tr>\n",
              "  </thead>\n",
              "  <tbody>\n",
              "    <tr>\n",
              "      <th>0</th>\n",
              "      <td>0</td>\n",
              "      <td>0</td>\n",
              "      <td>0</td>\n",
              "      <td>0</td>\n",
              "      <td>0</td>\n",
              "      <td>1</td>\n",
              "    </tr>\n",
              "    <tr>\n",
              "      <th>1</th>\n",
              "      <td>0</td>\n",
              "      <td>0</td>\n",
              "      <td>0</td>\n",
              "      <td>0</td>\n",
              "      <td>0</td>\n",
              "      <td>1</td>\n",
              "    </tr>\n",
              "    <tr>\n",
              "      <th>4</th>\n",
              "      <td>0</td>\n",
              "      <td>0</td>\n",
              "      <td>0</td>\n",
              "      <td>0</td>\n",
              "      <td>0</td>\n",
              "      <td>1</td>\n",
              "    </tr>\n",
              "    <tr>\n",
              "      <th>6</th>\n",
              "      <td>0</td>\n",
              "      <td>0</td>\n",
              "      <td>0</td>\n",
              "      <td>0</td>\n",
              "      <td>0</td>\n",
              "      <td>1</td>\n",
              "    </tr>\n",
              "    <tr>\n",
              "      <th>9</th>\n",
              "      <td>0</td>\n",
              "      <td>0</td>\n",
              "      <td>0</td>\n",
              "      <td>0</td>\n",
              "      <td>0</td>\n",
              "      <td>1</td>\n",
              "    </tr>\n",
              "    <tr>\n",
              "      <th>...</th>\n",
              "      <td>...</td>\n",
              "      <td>...</td>\n",
              "      <td>...</td>\n",
              "      <td>...</td>\n",
              "      <td>...</td>\n",
              "      <td>...</td>\n",
              "    </tr>\n",
              "    <tr>\n",
              "      <th>707514</th>\n",
              "      <td>0</td>\n",
              "      <td>0</td>\n",
              "      <td>1</td>\n",
              "      <td>0</td>\n",
              "      <td>0</td>\n",
              "      <td>0</td>\n",
              "    </tr>\n",
              "    <tr>\n",
              "      <th>707515</th>\n",
              "      <td>0</td>\n",
              "      <td>0</td>\n",
              "      <td>1</td>\n",
              "      <td>0</td>\n",
              "      <td>0</td>\n",
              "      <td>0</td>\n",
              "    </tr>\n",
              "    <tr>\n",
              "      <th>707516</th>\n",
              "      <td>0</td>\n",
              "      <td>0</td>\n",
              "      <td>1</td>\n",
              "      <td>0</td>\n",
              "      <td>0</td>\n",
              "      <td>0</td>\n",
              "    </tr>\n",
              "    <tr>\n",
              "      <th>707517</th>\n",
              "      <td>0</td>\n",
              "      <td>0</td>\n",
              "      <td>1</td>\n",
              "      <td>0</td>\n",
              "      <td>0</td>\n",
              "      <td>0</td>\n",
              "    </tr>\n",
              "    <tr>\n",
              "      <th>707518</th>\n",
              "      <td>0</td>\n",
              "      <td>0</td>\n",
              "      <td>1</td>\n",
              "      <td>0</td>\n",
              "      <td>0</td>\n",
              "      <td>0</td>\n",
              "    </tr>\n",
              "  </tbody>\n",
              "</table>\n",
              "<p>145286 rows × 6 columns</p>\n",
              "</div>\n",
              "      <button class=\"colab-df-convert\" onclick=\"convertToInteractive('df-59c162f1-dce7-4709-96be-ed0414cd208c')\"\n",
              "              title=\"Convert this dataframe to an interactive table.\"\n",
              "              style=\"display:none;\">\n",
              "        \n",
              "  <svg xmlns=\"http://www.w3.org/2000/svg\" height=\"24px\"viewBox=\"0 0 24 24\"\n",
              "       width=\"24px\">\n",
              "    <path d=\"M0 0h24v24H0V0z\" fill=\"none\"/>\n",
              "    <path d=\"M18.56 5.44l.94 2.06.94-2.06 2.06-.94-2.06-.94-.94-2.06-.94 2.06-2.06.94zm-11 1L8.5 8.5l.94-2.06 2.06-.94-2.06-.94L8.5 2.5l-.94 2.06-2.06.94zm10 10l.94 2.06.94-2.06 2.06-.94-2.06-.94-.94-2.06-.94 2.06-2.06.94z\"/><path d=\"M17.41 7.96l-1.37-1.37c-.4-.4-.92-.59-1.43-.59-.52 0-1.04.2-1.43.59L10.3 9.45l-7.72 7.72c-.78.78-.78 2.05 0 2.83L4 21.41c.39.39.9.59 1.41.59.51 0 1.02-.2 1.41-.59l7.78-7.78 2.81-2.81c.8-.78.8-2.07 0-2.86zM5.41 20L4 18.59l7.72-7.72 1.47 1.35L5.41 20z\"/>\n",
              "  </svg>\n",
              "      </button>\n",
              "      \n",
              "  <style>\n",
              "    .colab-df-container {\n",
              "      display:flex;\n",
              "      flex-wrap:wrap;\n",
              "      gap: 12px;\n",
              "    }\n",
              "\n",
              "    .colab-df-convert {\n",
              "      background-color: #E8F0FE;\n",
              "      border: none;\n",
              "      border-radius: 50%;\n",
              "      cursor: pointer;\n",
              "      display: none;\n",
              "      fill: #1967D2;\n",
              "      height: 32px;\n",
              "      padding: 0 0 0 0;\n",
              "      width: 32px;\n",
              "    }\n",
              "\n",
              "    .colab-df-convert:hover {\n",
              "      background-color: #E2EBFA;\n",
              "      box-shadow: 0px 1px 2px rgba(60, 64, 67, 0.3), 0px 1px 3px 1px rgba(60, 64, 67, 0.15);\n",
              "      fill: #174EA6;\n",
              "    }\n",
              "\n",
              "    [theme=dark] .colab-df-convert {\n",
              "      background-color: #3B4455;\n",
              "      fill: #D2E3FC;\n",
              "    }\n",
              "\n",
              "    [theme=dark] .colab-df-convert:hover {\n",
              "      background-color: #434B5C;\n",
              "      box-shadow: 0px 1px 3px 1px rgba(0, 0, 0, 0.15);\n",
              "      filter: drop-shadow(0px 1px 2px rgba(0, 0, 0, 0.3));\n",
              "      fill: #FFFFFF;\n",
              "    }\n",
              "  </style>\n",
              "\n",
              "      <script>\n",
              "        const buttonEl =\n",
              "          document.querySelector('#df-59c162f1-dce7-4709-96be-ed0414cd208c button.colab-df-convert');\n",
              "        buttonEl.style.display =\n",
              "          google.colab.kernel.accessAllowed ? 'block' : 'none';\n",
              "\n",
              "        async function convertToInteractive(key) {\n",
              "          const element = document.querySelector('#df-59c162f1-dce7-4709-96be-ed0414cd208c');\n",
              "          const dataTable =\n",
              "            await google.colab.kernel.invokeFunction('convertToInteractive',\n",
              "                                                     [key], {});\n",
              "          if (!dataTable) return;\n",
              "\n",
              "          const docLinkHtml = 'Like what you see? Visit the ' +\n",
              "            '<a target=\"_blank\" href=https://colab.research.google.com/notebooks/data_table.ipynb>data table notebook</a>'\n",
              "            + ' to learn more about interactive tables.';\n",
              "          element.innerHTML = '';\n",
              "          dataTable['output_type'] = 'display_data';\n",
              "          await google.colab.output.renderOutput(dataTable, element);\n",
              "          const docLink = document.createElement('div');\n",
              "          docLink.innerHTML = docLinkHtml;\n",
              "          element.appendChild(docLink);\n",
              "        }\n",
              "      </script>\n",
              "    </div>\n",
              "  </div>\n",
              "  "
            ]
          },
          "metadata": {},
          "execution_count": 78
        }
      ]
    },
    {
      "cell_type": "code",
      "source": [
        "model = model.join(pd.get_dummies(model[\"race\"]))"
      ],
      "metadata": {
        "id": "cA66RkWkI3un"
      },
      "execution_count": null,
      "outputs": []
    },
    {
      "cell_type": "code",
      "source": [
        "model = model.drop(\"race\", axis = 1)"
      ],
      "metadata": {
        "id": "heFUeEuPIYVn"
      },
      "execution_count": 82,
      "outputs": []
    },
    {
      "cell_type": "code",
      "source": [
        "model.columns.to_list()"
      ],
      "metadata": {
        "colab": {
          "base_uri": "https://localhost:8080/"
        },
        "id": "NJ2c4o04JA1e",
        "outputId": "4a06b6d0-ce07-4490-9d60-25b44636a2a6"
      },
      "execution_count": 83,
      "outputs": [
        {
          "output_type": "execute_result",
          "data": {
            "text/plain": [
              "['state_fips_code',\n",
              " 'county_fips_code',\n",
              " 'age_group',\n",
              " 'sex',\n",
              " 'hispanic',\n",
              " 'case_positive_specimen_interval',\n",
              " 'case_onset_interval',\n",
              " 'exposure_yn',\n",
              " 'current_status',\n",
              " 'symptom_status',\n",
              " 'hosp_yn',\n",
              " 'icu_yn',\n",
              " 'death_yn',\n",
              " 'American Indian/Alaska Native',\n",
              " 'Asian',\n",
              " 'Black',\n",
              " 'Multiple/Other',\n",
              " 'Native Hawaiian/Other Pacific Islander',\n",
              " 'White']"
            ]
          },
          "metadata": {},
          "execution_count": 83
        }
      ]
    },
    {
      "cell_type": "code",
      "source": [
        "model = model[['state_fips_code',\n",
        " 'county_fips_code',\n",
        " 'age_group',\n",
        " 'sex','American Indian/Alaska Native',\n",
        " 'Asian',\n",
        " 'Black',\n",
        " 'Multiple/Other',\n",
        " 'Native Hawaiian/Other Pacific Islander',\n",
        " 'White',\n",
        " 'hispanic',\n",
        " 'case_positive_specimen_interval',\n",
        " 'case_onset_interval',\n",
        " 'exposure_yn',\n",
        " 'current_status',\n",
        " 'symptom_status',\n",
        " 'hosp_yn',\n",
        " 'icu_yn',\n",
        " 'death_yn']]"
      ],
      "metadata": {
        "id": "trKU8JxnJCXt"
      },
      "execution_count": 84,
      "outputs": []
    },
    {
      "cell_type": "markdown",
      "source": [
        "##### Exposure"
      ],
      "metadata": {
        "id": "qKqkqQYaKTEf"
      }
    },
    {
      "cell_type": "markdown",
      "source": [
        "Vamos a inv"
      ],
      "metadata": {
        "id": "O_V7F7zQKU6u"
      }
    },
    {
      "cell_type": "code",
      "source": [
        "model.columns.unique()"
      ],
      "metadata": {
        "colab": {
          "base_uri": "https://localhost:8080/"
        },
        "id": "wyheTZ2dJS-s",
        "outputId": "2ab16484-6e0b-4a93-e268-6d07918cab19"
      },
      "execution_count": 87,
      "outputs": [
        {
          "output_type": "execute_result",
          "data": {
            "text/plain": [
              "Index(['state_fips_code', 'county_fips_code', 'age_group', 'sex',\n",
              "       'American Indian/Alaska Native', 'Asian', 'Black', 'Multiple/Other',\n",
              "       'Native Hawaiian/Other Pacific Islander', 'White', 'hispanic',\n",
              "       'exposure_yn', 'current_status', 'symptom_status', 'hosp_yn', 'icu_yn',\n",
              "       'death_yn'],\n",
              "      dtype='object')"
            ]
          },
          "metadata": {},
          "execution_count": 87
        }
      ]
    },
    {
      "cell_type": "code",
      "source": [
        ""
      ],
      "metadata": {
        "id": "Z-JWO0FbJTXm"
      },
      "execution_count": null,
      "outputs": []
    }
  ]
}